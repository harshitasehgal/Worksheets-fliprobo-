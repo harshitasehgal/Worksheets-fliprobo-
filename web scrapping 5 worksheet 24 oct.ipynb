{
 "cells": [
  {
   "cell_type": "markdown",
   "metadata": {},
   "source": [
    "# q1"
   ]
  },
  {
   "cell_type": "code",
   "execution_count": 1,
   "metadata": {},
   "outputs": [
    {
     "name": "stdout",
     "output_type": "stream",
     "text": [
      "all the header tags :\n",
      "\n",
      "<h1 class=\"firstHeading\" id=\"firstHeading\" lang=\"en\">Main Page</h1>\n",
      "\n",
      "<h2 class=\"mp-h2\" id=\"mp-tfa-h2\"><span id=\"From_today.27s_featured_article\"></span><span class=\"mw-headline\" id=\"From_today's_featured_article\">From today's featured article</span></h2>\n",
      "\n",
      "<h2 class=\"mp-h2\" id=\"mp-dyk-h2\"><span class=\"mw-headline\" id=\"Did_you_know_...\">Did you know ...</span></h2>\n",
      "\n",
      "<h2 class=\"mp-h2\" id=\"mp-itn-h2\"><span class=\"mw-headline\" id=\"In_the_news\">In the news</span></h2>\n",
      "\n",
      "<h2 class=\"mp-h2\" id=\"mp-otd-h2\"><span class=\"mw-headline\" id=\"On_this_day\">On this day</span></h2>\n",
      "\n",
      "<h2 class=\"mp-h2\" id=\"mp-tfp-h2\"><span id=\"Today.27s_featured_picture\"></span><span class=\"mw-headline\" id=\"Today's_featured_picture\">Today's featured picture</span></h2>\n",
      "\n",
      "<h2 class=\"mp-h2\" id=\"mp-other\"><span class=\"mw-headline\" id=\"Other_areas_of_Wikipedia\">Other areas of Wikipedia</span></h2>\n",
      "\n",
      "<h2 class=\"mp-h2\" id=\"mp-sister\"><span id=\"Wikipedia.27s_sister_projects\"></span><span class=\"mw-headline\" id=\"Wikipedia's_sister_projects\">Wikipedia's sister projects</span></h2>\n",
      "\n",
      "<h2 class=\"mp-h2\" id=\"mp-lang\"><span class=\"mw-headline\" id=\"Wikipedia_languages\">Wikipedia languages</span></h2>\n",
      "\n",
      "<h2>Navigation menu</h2>\n",
      "\n",
      "<h3 id=\"p-personal-label\">\n",
      "<span>Personal tools</span>\n",
      "</h3>\n",
      "\n",
      "<h3 id=\"p-namespaces-label\">\n",
      "<span>Namespaces</span>\n",
      "</h3>\n",
      "\n",
      "<h3 id=\"p-variants-label\">\n",
      "<span>Variants</span>\n",
      "</h3>\n",
      "\n",
      "<h3 id=\"p-views-label\">\n",
      "<span>Views</span>\n",
      "</h3>\n",
      "\n",
      "<h3 id=\"p-cactions-label\">\n",
      "<span>More</span>\n",
      "</h3>\n",
      "\n",
      "<h3>\n",
      "<label for=\"searchInput\">Search</label>\n",
      "</h3>\n",
      "\n",
      "<h3 id=\"p-navigation-label\">\n",
      "<span>Navigation</span>\n",
      "</h3>\n",
      "\n",
      "<h3 id=\"p-interaction-label\">\n",
      "<span>Contribute</span>\n",
      "</h3>\n",
      "\n",
      "<h3 id=\"p-tb-label\">\n",
      "<span>Tools</span>\n",
      "</h3>\n",
      "\n",
      "<h3 id=\"p-coll-print_export-label\">\n",
      "<span>Print/export</span>\n",
      "</h3>\n",
      "\n",
      "<h3 id=\"p-wikibase-otherprojects-label\">\n",
      "<span>In other projects</span>\n",
      "</h3>\n",
      "\n",
      "<h3 id=\"p-lang-label\">\n",
      "<span>Languages</span>\n",
      "</h3>\n"
     ]
    }
   ],
   "source": [
    "from urllib.request import urlopen\n",
    "from bs4 import BeautifulSoup\n",
    "html = urlopen('https://en.wikipedia.org/wiki/Main_Page')\n",
    "bs = BeautifulSoup(html, \"html.parser\")\n",
    "titles = bs.find_all(['h1', 'h2','h3','h4','h5','h6'])\n",
    "print('all the header tags :', *titles, sep='\\n\\n')"
   ]
  },
  {
   "cell_type": "code",
   "execution_count": null,
   "metadata": {},
   "outputs": [],
   "source": []
  },
  {
   "cell_type": "code",
   "execution_count": null,
   "metadata": {},
   "outputs": [],
   "source": [
    "#q3"
   ]
  },
  {
   "cell_type": "markdown",
   "metadata": {},
   "source": [
    "import requests\n",
    "geo_url = 'http://maps.googleapis.com/maps/api/geocode/json'\n",
    "my_address = input()\n",
    "response = requests.get(geo_url, params = my_address)\n",
    "results = response.json()['results']\n",
    "my_geo = results[0]['geometry']['location']\n",
    "print(\"Longitude:\",my_geo['lng'],\"\\n\",\"Latitude:\",my_geo['lat'])"
   ]
  },
  {
   "cell_type": "code",
   "execution_count": null,
   "metadata": {},
   "outputs": [],
   "source": [
    "from webdriver_manager.chrome import ChromeDriverManager\n",
    "import selenium\n",
    "from selenium import webdriver\n",
    "import os"
   ]
  },
  {
   "cell_type": "code",
   "execution_count": 120,
   "metadata": {},
   "outputs": [
    {
     "name": "stderr",
     "output_type": "stream",
     "text": [
      "[WDM] - Current google-chrome version is 86.0.4240\n",
      "[WDM] - Get LATEST driver version for 86.0.4240\n"
     ]
    },
    {
     "name": "stdout",
     "output_type": "stream",
     "text": [
      " \n"
     ]
    },
    {
     "name": "stderr",
     "output_type": "stream",
     "text": [
      "[WDM] - Driver [C:\\Users\\COMP\\.wdm\\drivers\\chromedriver\\win32\\86.0.4240.22\\chromedriver.exe] found in cache\n"
     ]
    }
   ],
   "source": [
    "DRIVER_PATH = webdriver.Chrome(ChromeDriverManager().install())"
   ]
  },
  {
   "cell_type": "code",
   "execution_count": 121,
   "metadata": {},
   "outputs": [],
   "source": [
    "driver=DRIVER_PATH"
   ]
  },
  {
   "cell_type": "code",
   "execution_count": 13,
   "metadata": {},
   "outputs": [],
   "source": [
    "current_path_url=driver.get(\"https://www.imdb.com/list/ls091520106/\")"
   ]
  },
  {
   "cell_type": "markdown",
   "metadata": {},
   "source": [
    "# q2"
   ]
  },
  {
   "cell_type": "code",
   "execution_count": 61,
   "metadata": {},
   "outputs": [],
   "source": [
    "movie_names=driver.find_elements_by_xpath(\"//h3[@class='lister-item-header']\")\n",
    "IMDB_ratings=driver.find_elements_by_xpath(\"//div[@class='ipl-rating-star small']\")\n",
    "duration=driver.find_elements_by_xpath(\"//span[@class='runtime']\")\n",
    "director_and_star_cast=driver.find_elements_by_xpath(\"//p[@class='text-muted text-small']\")\n",
    "\n"
   ]
  },
  {
   "cell_type": "code",
   "execution_count": 62,
   "metadata": {},
   "outputs": [
    {
     "name": "stdout",
     "output_type": "stream",
     "text": [
      "100\n",
      "100\n",
      "100\n",
      "100\n"
     ]
    }
   ],
   "source": [
    "movie_names=movie_names[0:100]\n",
    "print(len(movie_names))\n",
    "IMDB_ratings=IMDB_ratings[0:100]\n",
    "print(len(IMDB_ratings))\n",
    "duration=duration[0:100]\n",
    "print(len(duration))\n",
    "director_and_star_cast=director_and_star_cast[0:100]\n",
    "print(len(director_and_star_cast))\n",
    "\n",
    "\n"
   ]
  },
  {
   "cell_type": "code",
   "execution_count": 63,
   "metadata": {},
   "outputs": [],
   "source": [
    "product_data={}\n",
    "product_data['movie_names']=[]\n",
    "product_data['IMDB_ratings']=[]\n",
    "product_data['duration']=[]\n",
    "product_data['director_and_star_cast']=[]"
   ]
  },
  {
   "cell_type": "code",
   "execution_count": 64,
   "metadata": {},
   "outputs": [],
   "source": [
    "for movie_name in movie_names:\n",
    "    product_data['movie_names'].append(movie_name.text)\n",
    "for IMDB_rating in IMDB_ratings:    \n",
    "    product_data['IMDB_ratings'].append(IMDB_rating.text)\n",
    "for duration in duration:    \n",
    "    product_data['duration'].append(duration.text)\n",
    "for director_and_star_cast in director_and_star_cast:    \n",
    "    product_data['director_and_star_cast'].append(director_and_star_cast.text)    \n",
    "    "
   ]
  },
  {
   "cell_type": "code",
   "execution_count": 65,
   "metadata": {},
   "outputs": [
    {
     "data": {
      "text/plain": [
       "{'movie_names': ['1. The Shawshank Redemption (1994)',\n",
       "  '2. The Godfather (1972)',\n",
       "  '3. The Godfather: Part II (1974)',\n",
       "  '4. The Dark Knight (2008)',\n",
       "  '5. 12 Angry Men (1957)',\n",
       "  \"6. Schindler's List (1993)\",\n",
       "  '7. The Lord of the Rings: The Return of the King (2003)',\n",
       "  '8. Pulp Fiction (1994)',\n",
       "  '9. The Good, the Bad and the Ugly (1966)',\n",
       "  '10. Fight Club (1999)',\n",
       "  '11. Joker (2019)',\n",
       "  '12. The Lord of the Rings: The Fellowship of the Ring (2001)',\n",
       "  '13. Forrest Gump (1994)',\n",
       "  '14. Inception (2010)',\n",
       "  '15. Star Wars: Episode V - The Empire Strikes Back (1980)',\n",
       "  '16. The Lord of the Rings: The Two Towers (2002)',\n",
       "  '17. The Matrix (1999)',\n",
       "  \"18. One Flew Over the Cuckoo's Nest (1975)\",\n",
       "  '19. Goodfellas (1990)',\n",
       "  '20. Seven Samurai (1954)',\n",
       "  '21. Se7en (1995)',\n",
       "  '22. City of God (2002)',\n",
       "  '23. Life Is Beautiful (1997)',\n",
       "  '24. The Silence of the Lambs (1991)',\n",
       "  '25. Star Wars: Episode IV - A New Hope (1977)',\n",
       "  \"26. It's a Wonderful Life (1946)\",\n",
       "  '27. Saving Private Ryan (1998)',\n",
       "  '28. Spirited Away (2001)',\n",
       "  '29. The Green Mile (1999)',\n",
       "  '30. Léon: The Professional (1994)',\n",
       "  '31. Harakiri (1962)',\n",
       "  '32. Interstellar (2014)',\n",
       "  '33. The Usual Suspects (1995)',\n",
       "  '34. The Lion King (1994)',\n",
       "  '35. American History X (1998)',\n",
       "  '36. Back to the Future (1985)',\n",
       "  '37. The Pianist (2002)',\n",
       "  '38. Modern Times (1936)',\n",
       "  '39. Terminator 2: Judgment Day (1991)',\n",
       "  '40. The Intouchables (2011)',\n",
       "  '41. Psycho (1960)',\n",
       "  '42. Gladiator (2000)',\n",
       "  '43. City Lights (1931)',\n",
       "  '44. The Departed (2006)',\n",
       "  '45. Whiplash (2014)',\n",
       "  '46. Once Upon a Time in the West (1968)',\n",
       "  '47. The Prestige (2006)',\n",
       "  '48. Avengers: Endgame (2019)',\n",
       "  '49. Casablanca (1942)',\n",
       "  '50. Grave of the Fireflies (1988)',\n",
       "  '51. Rear Window (1954)',\n",
       "  '52. Cinema Paradiso (1988)',\n",
       "  '53. Alien (1979)',\n",
       "  '54. Raiders of the Lost Ark (1981)',\n",
       "  '55. Memento (2000)',\n",
       "  '56. Apocalypse Now (1979)',\n",
       "  '57. The Great Dictator (1940)',\n",
       "  '58. The Lives of Others (2006)',\n",
       "  '59. Avengers: Infinity War (2018)',\n",
       "  '60. Django Unchained (2012)',\n",
       "  '61. Spider-Man: Into the Spider-Verse (2018)',\n",
       "  '62. The Shining (1980)',\n",
       "  '63. Paths of Glory (1957)',\n",
       "  '64. WALL·E (2008)',\n",
       "  '65. Sunset Blvd. (1950)',\n",
       "  '66. Dr. Strangelove or: How I Learned to Stop Worrying and Love the Bomb (1964)',\n",
       "  '67. Princess Mononoke (1997)',\n",
       "  '68. Oldboy (2003)',\n",
       "  '69. Witness for the Prosecution (1957)',\n",
       "  '70. The Dark Knight Rises (2012)',\n",
       "  '71. Once Upon a Time in America (1984)',\n",
       "  '72. Parasite (2019)',\n",
       "  '73. Aliens (1986)',\n",
       "  '74. American Beauty (1999)',\n",
       "  '75. Coco (I) (2017)',\n",
       "  '76. Your Name. (2016)',\n",
       "  '77. Braveheart (1995)',\n",
       "  '78. Das Boot (1981)',\n",
       "  '79. 3 Idiots (2009)',\n",
       "  '80. Taare Zameen Par (2007)',\n",
       "  '81. Star Wars: Episode VI - Return of the Jedi (1983)',\n",
       "  '82. Toy Story (1995)',\n",
       "  '83. Reservoir Dogs (1992)',\n",
       "  '84. Amadeus (1984)',\n",
       "  '85. Dangal (2016)',\n",
       "  '86. Good Will Hunting (1997)',\n",
       "  '87. Inglourious Basterds (2009)',\n",
       "  '88. M (1931)',\n",
       "  '89. Requiem for a Dream (2000)',\n",
       "  '90. 2001: A Space Odyssey (1968)',\n",
       "  '91. Vertigo (1958)',\n",
       "  '92. Eternal Sunshine of the Spotless Mind (2004)',\n",
       "  '93. Citizen Kane (1941)',\n",
       "  '94. Full Metal Jacket (1987)',\n",
       "  '95. The Hunt (2012)',\n",
       "  '96. North by Northwest (1959)',\n",
       "  '97. A Clockwork Orange (1971)',\n",
       "  '98. Snatch (2000)',\n",
       "  '99. Amélie (2001)',\n",
       "  '100. The Kid (1921)'],\n",
       " 'IMDB_ratings': ['9.3',\n",
       "  '9.2',\n",
       "  '9',\n",
       "  '9',\n",
       "  '8.9',\n",
       "  '8.9',\n",
       "  '8.9',\n",
       "  '8.9',\n",
       "  '8.8',\n",
       "  '8.8',\n",
       "  '8.5',\n",
       "  '8.8',\n",
       "  '8.8',\n",
       "  '8.8',\n",
       "  '8.7',\n",
       "  '8.7',\n",
       "  '8.7',\n",
       "  '8.7',\n",
       "  '8.7',\n",
       "  '8.6',\n",
       "  '8.6',\n",
       "  '8.6',\n",
       "  '8.6',\n",
       "  '8.6',\n",
       "  '8.6',\n",
       "  '8.6',\n",
       "  '8.6',\n",
       "  '8.6',\n",
       "  '8.6',\n",
       "  '8.5',\n",
       "  '8.6',\n",
       "  '8.6',\n",
       "  '8.5',\n",
       "  '8.5',\n",
       "  '8.5',\n",
       "  '8.5',\n",
       "  '8.5',\n",
       "  '8.5',\n",
       "  '8.5',\n",
       "  '8.5',\n",
       "  '8.5',\n",
       "  '8.5',\n",
       "  '8.5',\n",
       "  '8.5',\n",
       "  '8.5',\n",
       "  '8.5',\n",
       "  '8.5',\n",
       "  '8.4',\n",
       "  '8.5',\n",
       "  '8.5',\n",
       "  '8.4',\n",
       "  '8.5',\n",
       "  '8.4',\n",
       "  '8.4',\n",
       "  '8.4',\n",
       "  '8.4',\n",
       "  '8.4',\n",
       "  '8.4',\n",
       "  '8.4',\n",
       "  '8.4',\n",
       "  '8.4',\n",
       "  '8.4',\n",
       "  '8.4',\n",
       "  '8.4',\n",
       "  '8.4',\n",
       "  '8.4',\n",
       "  '8.4',\n",
       "  '8.4',\n",
       "  '8.4',\n",
       "  '8.4',\n",
       "  '8.4',\n",
       "  '8.6',\n",
       "  '8.3',\n",
       "  '8.3',\n",
       "  '8.4',\n",
       "  '8.4',\n",
       "  '8.3',\n",
       "  '8.3',\n",
       "  '8.4',\n",
       "  '8.4',\n",
       "  '8.3',\n",
       "  '8.3',\n",
       "  '8.3',\n",
       "  '8.3',\n",
       "  '8.4',\n",
       "  '8.3',\n",
       "  '8.3',\n",
       "  '8.3',\n",
       "  '8.3',\n",
       "  '8.3',\n",
       "  '8.3',\n",
       "  '8.3',\n",
       "  '8.3',\n",
       "  '8.3',\n",
       "  '8.3',\n",
       "  '8.3',\n",
       "  '8.3',\n",
       "  '8.3',\n",
       "  '8.3',\n",
       "  '8.3'],\n",
       " 'duration': ['142 min',\n",
       "  '175 min',\n",
       "  '202 min',\n",
       "  '152 min',\n",
       "  '96 min',\n",
       "  '195 min',\n",
       "  '201 min',\n",
       "  '154 min',\n",
       "  '178 min',\n",
       "  '139 min',\n",
       "  '122 min',\n",
       "  '178 min',\n",
       "  '142 min',\n",
       "  '148 min',\n",
       "  '124 min',\n",
       "  '179 min',\n",
       "  '136 min',\n",
       "  '133 min',\n",
       "  '146 min',\n",
       "  '207 min',\n",
       "  '127 min',\n",
       "  '130 min',\n",
       "  '116 min',\n",
       "  '118 min',\n",
       "  '121 min',\n",
       "  '130 min',\n",
       "  '169 min',\n",
       "  '125 min',\n",
       "  '189 min',\n",
       "  '110 min',\n",
       "  '133 min',\n",
       "  '169 min',\n",
       "  '106 min',\n",
       "  '88 min',\n",
       "  '119 min',\n",
       "  '116 min',\n",
       "  '150 min',\n",
       "  '87 min',\n",
       "  '137 min',\n",
       "  '112 min',\n",
       "  '109 min',\n",
       "  '155 min',\n",
       "  '87 min',\n",
       "  '151 min',\n",
       "  '106 min',\n",
       "  '165 min',\n",
       "  '130 min',\n",
       "  '181 min',\n",
       "  '102 min',\n",
       "  '89 min',\n",
       "  '112 min',\n",
       "  '155 min',\n",
       "  '117 min',\n",
       "  '115 min',\n",
       "  '113 min',\n",
       "  '147 min',\n",
       "  '125 min',\n",
       "  '137 min',\n",
       "  '149 min',\n",
       "  '165 min',\n",
       "  '117 min',\n",
       "  '146 min',\n",
       "  '88 min',\n",
       "  '98 min',\n",
       "  '110 min',\n",
       "  '95 min',\n",
       "  '134 min',\n",
       "  '101 min',\n",
       "  '116 min',\n",
       "  '164 min',\n",
       "  '229 min',\n",
       "  '132 min',\n",
       "  '137 min',\n",
       "  '122 min',\n",
       "  '105 min',\n",
       "  '106 min',\n",
       "  '178 min',\n",
       "  '149 min',\n",
       "  '170 min',\n",
       "  '165 min',\n",
       "  '131 min',\n",
       "  '81 min',\n",
       "  '99 min',\n",
       "  '160 min',\n",
       "  '161 min',\n",
       "  '126 min',\n",
       "  '153 min',\n",
       "  '99 min',\n",
       "  '102 min',\n",
       "  '149 min',\n",
       "  '128 min',\n",
       "  '108 min',\n",
       "  '119 min',\n",
       "  '116 min',\n",
       "  '115 min',\n",
       "  '136 min',\n",
       "  '136 min',\n",
       "  '102 min',\n",
       "  '122 min',\n",
       "  '68 min'],\n",
       " 'director_and_star_cast': ['R | 142 min | Drama',\n",
       "  'Director: Frank Darabont | Stars: Tim Robbins, Morgan Freeman, Bob Gunton, William Sadler',\n",
       "  'Votes: 2,297,106 | Gross: $28.34M',\n",
       "  'R | 175 min | Crime, Drama',\n",
       "  'Director: Francis Ford Coppola | Stars: Marlon Brando, Al Pacino, James Caan, Diane Keaton',\n",
       "  'Votes: 1,585,416 | Gross: $134.97M',\n",
       "  'R | 202 min | Crime, Drama',\n",
       "  'Director: Francis Ford Coppola | Stars: Al Pacino, Robert De Niro, Robert Duvall, Diane Keaton',\n",
       "  'Votes: 1,107,676 | Gross: $57.30M',\n",
       "  'PG-13 | 152 min | Action, Crime, Drama',\n",
       "  'Director: Christopher Nolan | Stars: Christian Bale, Heath Ledger, Aaron Eckhart, Michael Caine',\n",
       "  'Votes: 2,261,461 | Gross: $534.86M',\n",
       "  'Approved | 96 min | Crime, Drama',\n",
       "  'Director: Sidney Lumet | Stars: Henry Fonda, Lee J. Cobb, Martin Balsam, John Fiedler',\n",
       "  'Votes: 674,945 | Gross: $4.36M',\n",
       "  'R | 195 min | Biography, Drama, History',\n",
       "  'Director: Steven Spielberg | Stars: Liam Neeson, Ralph Fiennes, Ben Kingsley, Caroline Goodall',\n",
       "  'Votes: 1,192,214 | Gross: $96.90M',\n",
       "  'PG-13 | 201 min | Action, Adventure, Drama',\n",
       "  'Director: Peter Jackson | Stars: Elijah Wood, Viggo Mortensen, Ian McKellen, Orlando Bloom',\n",
       "  'Votes: 1,614,924 | Gross: $377.85M',\n",
       "  'R | 154 min | Crime, Drama',\n",
       "  'Director: Quentin Tarantino | Stars: John Travolta, Uma Thurman, Samuel L. Jackson, Bruce Willis',\n",
       "  'Votes: 1,793,641 | Gross: $107.93M',\n",
       "  'R | 178 min | Western',\n",
       "  'Director: Sergio Leone | Stars: Clint Eastwood, Eli Wallach, Lee Van Cleef, Aldo Giuffrè',\n",
       "  'Votes: 677,385 | Gross: $6.10M',\n",
       "  'R | 139 min | Drama',\n",
       "  'Director: David Fincher | Stars: Brad Pitt, Edward Norton, Meat Loaf, Zach Grenier',\n",
       "  'Votes: 1,820,975 | Gross: $37.03M',\n",
       "  'R | 122 min | Crime, Drama, Thriller',\n",
       "  'Director: Todd Phillips | Stars: Joaquin Phoenix, Robert De Niro, Zazie Beetz, Frances Conroy',\n",
       "  'Votes: 883,987 | Gross: $335.45M',\n",
       "  'PG-13 | 178 min | Action, Adventure, Drama',\n",
       "  'Director: Peter Jackson | Stars: Elijah Wood, Ian McKellen, Orlando Bloom, Sean Bean',\n",
       "  'Votes: 1,630,676 | Gross: $315.54M',\n",
       "  'PG-13 | 142 min | Drama, Romance',\n",
       "  'Director: Robert Zemeckis | Stars: Tom Hanks, Robin Wright, Gary Sinise, Sally Field',\n",
       "  'Votes: 1,770,060 | Gross: $330.25M',\n",
       "  'PG-13 | 148 min | Action, Adventure, Sci-Fi',\n",
       "  'Director: Christopher Nolan | Stars: Leonardo DiCaprio, Joseph Gordon-Levitt, Ellen Page, Ken Watanabe',\n",
       "  'Votes: 2,023,468 | Gross: $292.58M',\n",
       "  'PG | 124 min | Action, Adventure, Fantasy',\n",
       "  'Director: Irvin Kershner | Stars: Mark Hamill, Harrison Ford, Carrie Fisher, Billy Dee Williams',\n",
       "  'Votes: 1,139,694 | Gross: $290.48M',\n",
       "  'PG-13 | 179 min | Action, Adventure, Drama',\n",
       "  'Director: Peter Jackson | Stars: Elijah Wood, Ian McKellen, Viggo Mortensen, Orlando Bloom',\n",
       "  'Votes: 1,459,659 | Gross: $342.55M',\n",
       "  'R | 136 min | Action, Sci-Fi',\n",
       "  'Directors: Lana Wachowski, Lilly Wachowski | Stars: Keanu Reeves, Laurence Fishburne, Carrie-Anne Moss, Hugo Weaving',\n",
       "  'Votes: 1,644,526 | Gross: $171.48M',\n",
       "  'R | 133 min | Drama',\n",
       "  'Director: Milos Forman | Stars: Jack Nicholson, Louise Fletcher, Michael Berryman, Peter Brocco',\n",
       "  'Votes: 901,756 | Gross: $112.00M',\n",
       "  'R | 146 min | Biography, Crime, Drama',\n",
       "  'Director: Martin Scorsese | Stars: Robert De Niro, Ray Liotta, Joe Pesci, Lorraine Bracco',\n",
       "  'Votes: 1,000,043 | Gross: $46.84M',\n",
       "  'Not Rated | 207 min | Action, Adventure, Drama',\n",
       "  'Director: Akira Kurosawa | Stars: Toshirô Mifune, Takashi Shimura, Keiko Tsushima, Yukiko Shimazaki',\n",
       "  'Votes: 310,538 | Gross: $0.27M',\n",
       "  'R | 127 min | Crime, Drama, Mystery',\n",
       "  'Director: David Fincher | Stars: Morgan Freeman, Brad Pitt, Kevin Spacey, Andrew Kevin Walker',\n",
       "  'Votes: 1,414,795 | Gross: $100.13M',\n",
       "  'R | 130 min | Crime, Drama',\n",
       "  'Directors: Fernando Meirelles, Kátia Lund | Stars: Alexandre Rodrigues, Leandro Firmino, Matheus Nachtergaele, Phellipe Haagensen',\n",
       "  'Votes: 689,865 | Gross: $7.56M',\n",
       "  'PG-13 | 116 min | Comedy, Drama, Romance',\n",
       "  'Director: Roberto Benigni | Stars: Roberto Benigni, Nicoletta Braschi, Giorgio Cantarini, Giustino Durano',\n",
       "  'Votes: 610,938 | Gross: $57.60M',\n",
       "  'R | 118 min | Crime, Drama, Thriller',\n",
       "  'Director: Jonathan Demme | Stars: Jodie Foster, Anthony Hopkins, Lawrence A. Bonney, Kasi Lemmons',\n",
       "  'Votes: 1,245,391 | Gross: $130.74M',\n",
       "  'PG | 121 min | Action, Adventure, Fantasy',\n",
       "  'Director: George Lucas | Stars: Mark Hamill, Harrison Ford, Carrie Fisher, Alec Guinness',\n",
       "  'Votes: 1,211,422 | Gross: $322.74M',\n",
       "  'PG | 130 min | Drama, Family, Fantasy',\n",
       "  'Director: Frank Capra | Stars: James Stewart, Donna Reed, Lionel Barrymore, Thomas Mitchell',\n",
       "  'Votes: 391,002',\n",
       "  'R | 169 min | Drama, War',\n",
       "  'Director: Steven Spielberg | Stars: Tom Hanks, Matt Damon, Tom Sizemore, Edward Burns',\n",
       "  'Votes: 1,213,222 | Gross: $216.54M',\n",
       "  'PG | 125 min | Animation, Adventure, Family',\n",
       "  'Director: Hayao Miyazaki | Stars: Daveigh Chase, Suzanne Pleshette, Miyu Irino, Rumi Hiiragi',\n",
       "  'Votes: 634,054 | Gross: $10.06M',\n",
       "  'R | 189 min | Crime, Drama, Fantasy',\n",
       "  'Director: Frank Darabont | Stars: Tom Hanks, Michael Clarke Duncan, David Morse, Bonnie Hunt',\n",
       "  'Votes: 1,122,798 | Gross: $136.80M',\n",
       "  'R | 110 min | Action, Crime, Drama',\n",
       "  'Director: Luc Besson | Stars: Jean Reno, Gary Oldman, Natalie Portman, Danny Aiello',\n",
       "  'Votes: 1,015,770 | Gross: $19.50M',\n",
       "  'Not Rated | 133 min | Action, Drama, Mystery',\n",
       "  'Director: Masaki Kobayashi | Stars: Tatsuya Nakadai, Akira Ishihama, Shima Iwashita, Tetsurô Tanba',\n",
       "  'Votes: 38,844',\n",
       "  'PG-13 | 169 min | Adventure, Drama, Sci-Fi',\n",
       "  'Director: Christopher Nolan | Stars: Matthew McConaughey, Anne Hathaway, Jessica Chastain, Mackenzie Foy',\n",
       "  'Votes: 1,469,271 | Gross: $188.02M',\n",
       "  'R | 106 min | Crime, Mystery, Thriller',\n",
       "  'Director: Bryan Singer | Stars: Kevin Spacey, Gabriel Byrne, Chazz Palminteri, Stephen Baldwin',\n",
       "  'Votes: 975,626 | Gross: $23.34M',\n",
       "  'G | 88 min | Animation, Adventure, Drama']}"
      ]
     },
     "execution_count": 65,
     "metadata": {},
     "output_type": "execute_result"
    }
   ],
   "source": [
    "product_data"
   ]
  },
  {
   "cell_type": "markdown",
   "metadata": {},
   "source": [
    "# q4"
   ]
  },
  {
   "cell_type": "code",
   "execution_count": 177,
   "metadata": {},
   "outputs": [],
   "source": [
    "current_path_url=driver.get(\"https://bookpage.com/reviews\")"
   ]
  },
  {
   "cell_type": "code",
   "execution_count": 178,
   "metadata": {},
   "outputs": [],
   "source": [
    "book_names=driver.find_elements_by_xpath(\"//h4[@class='italic']\")\n",
    "author_name=driver.find_elements_by_xpath(\"//p[@class='sans bold']\")\n",
    "genre=driver.find_elements_by_xpath(\"//p[@class='genre-links hidden-phone']\")\n"
   ]
  },
  {
   "cell_type": "code",
   "execution_count": null,
   "metadata": {},
   "outputs": [],
   "source": []
  },
  {
   "cell_type": "code",
   "execution_count": 179,
   "metadata": {},
   "outputs": [
    {
     "name": "stdout",
     "output_type": "stream",
     "text": [
      "5\n",
      "5\n",
      "5\n"
     ]
    }
   ],
   "source": [
    "book_names=book_names[0:5]\n",
    "print(len(book_names))\n",
    "author_name=author_name[0:5]\n",
    "print(len(author_name))\n",
    "genre=genre[0:5]\n",
    "print(len(genre))\n"
   ]
  },
  {
   "cell_type": "code",
   "execution_count": 180,
   "metadata": {},
   "outputs": [],
   "source": [
    "book_data={}\n",
    "book_data['book_names']=[]\n",
    "book_data['author_name']=[]\n",
    "book_data['genre']=[]"
   ]
  },
  {
   "cell_type": "code",
   "execution_count": 181,
   "metadata": {},
   "outputs": [],
   "source": [
    "for book_names in book_names:\n",
    "    book_data['book_names'].append(book_names.text)\n",
    "for author_name in author_name:    \n",
    "    book_data['author_name'].append(author_name.text)\n",
    "for genre in genre:    \n",
    "    book_data['genre'].append(genre.text)\n"
   ]
  },
  {
   "cell_type": "code",
   "execution_count": 182,
   "metadata": {},
   "outputs": [
    {
     "data": {
      "text/plain": [
       "{'book_names': ['Crow & Snow',\n",
       "  'Magic Dark and Strange',\n",
       "  'The Kidnapping Club',\n",
       "  'Cobble Hill',\n",
       "  '★ The Zealot and the Emancipator'],\n",
       " 'author_name': ['Robert Broder, Olivier Tallec',\n",
       "  'Kelly Powell',\n",
       "  'Jonathan Daniel Wells',\n",
       "  'Cecily von Ziegesar',\n",
       "  'H.W. Brands'],\n",
       " 'genre': ['Children’s / Children’s Picture Book',\n",
       "  'YA Fiction / YA',\n",
       "  'Nonfiction / American History / African American History',\n",
       "  'Fiction / Popular Fiction',\n",
       "  'Nonfiction / History / American History']}"
      ]
     },
     "execution_count": 182,
     "metadata": {},
     "output_type": "execute_result"
    }
   ],
   "source": [
    "book_data"
   ]
  },
  {
   "cell_type": "code",
   "execution_count": null,
   "metadata": {},
   "outputs": [],
   "source": []
  },
  {
   "cell_type": "code",
   "execution_count": null,
   "metadata": {},
   "outputs": [],
   "source": []
  },
  {
   "cell_type": "code",
   "execution_count": 75,
   "metadata": {},
   "outputs": [],
   "source": [
    "current_path_url=driver.get(\"https://bookpage.com/reviews/25658-robert-broder-crow-snow-childrens#.X5Q749AzbIU\")"
   ]
  },
  {
   "cell_type": "code",
   "execution_count": 94,
   "metadata": {},
   "outputs": [],
   "source": [
    "book_review_one=driver.find_elements_by_xpath(\"//div[@class='span7']\")"
   ]
  },
  {
   "cell_type": "code",
   "execution_count": 95,
   "metadata": {},
   "outputs": [],
   "source": [
    "review={}\n",
    "review['book_review_one']=[]"
   ]
  },
  {
   "cell_type": "code",
   "execution_count": 96,
   "metadata": {},
   "outputs": [],
   "source": [
    "for book_review_one in book_review_one:\n",
    "    review['book_review_one'].append(book_review_one.text)"
   ]
  },
  {
   "cell_type": "code",
   "execution_count": 97,
   "metadata": {},
   "outputs": [
    {
     "data": {
      "text/plain": [
       "<selenium.webdriver.remote.webelement.WebElement (session=\"697a2e2ab50ccc903acf828d92e4a54a\", element=\"2bd1d08f-f756-47ee-9c8c-35380a1b12eb\")>"
      ]
     },
     "execution_count": 97,
     "metadata": {},
     "output_type": "execute_result"
    }
   ],
   "source": [
    "book_review_one"
   ]
  },
  {
   "cell_type": "code",
   "execution_count": 98,
   "metadata": {},
   "outputs": [
    {
     "data": {
      "text/plain": [
       "{'book_review_one': ['A friendly scarecrow named Crow stands alone in a field, watching tractors go by and seasons pass. One winter, children build a snowman right next to Crow. After Crow finally says hello, Crow and Snow become friends. “Will you be staying awhile?” asks Crow, but Snow isn’t sure. Sadly, Crow watches Snow slowly melt as the days warm up.\\nWhen winter circles back around, Crow is thrilled to see Snow again, though he notices that this time Snow looks “a bit different.” For a second time, Crow has a friend to share his days with. But as winter fades, he must once again say goodbye to Snow. After multiple reunions and goodbyes, Crow is determined to tell Snow how he feels about him, but years pass without the children building another snowman. When “new children” finally appear, Crow gets his chance.\\nIllustrator Olivier Tallec’s uncluttered spreads in Crow & Snow feature a particularly inviting color palette of cool teals and greens, occasionally offset by warmly colored pink skies. Crow is a remarkably expressive character, particularly for a creature who is half stick, and Tallec has fun with the ways in which Snow’s appearance changes year by year, based on the materials that might be available to resourceful snowman-constructing children.\\nAuthor Robert Broder weaves straightforward but touching moments of dialogue into this story of loss and impermanence. “I will miss you,” Crow says as he watches Snow shrink before him. Broder balances these moments with subtle touches of slightly morbid humor, such as Snow’s utter inability to control his appearance—one year, he has a carrot for a nose and the next, a pinecone—and his powerlessness to control his fate when the weather changes. The spreads in which Snow disappears have a deeply felt poignancy, but the way this tender story ends infuses the whole thing with wonderful hopefulness.\\nThis ode to love, and the importance of professing our feelings to those we love, speaks volumes.']}"
      ]
     },
     "execution_count": 98,
     "metadata": {},
     "output_type": "execute_result"
    }
   ],
   "source": [
    "review"
   ]
  },
  {
   "cell_type": "code",
   "execution_count": 99,
   "metadata": {},
   "outputs": [],
   "source": [
    "current_path_url=driver.get(\"https://bookpage.com/reviews/25642-kelly-powell-magic-dark-strange-ya-fiction#.X5RB5NAzbIU\")"
   ]
  },
  {
   "cell_type": "code",
   "execution_count": 100,
   "metadata": {},
   "outputs": [],
   "source": [
    "book_review_two=driver.find_elements_by_xpath(\"//div[@class='span7']\")"
   ]
  },
  {
   "cell_type": "code",
   "execution_count": 101,
   "metadata": {},
   "outputs": [
    {
     "data": {
      "text/plain": [
       "{'book_review_two': ['By day, Catherine works in a print shop. At night, her boss sends her to the cemetery to raise the dead and give families a final hour with their loved ones—but each raising takes an hour off her life. It’s an unfortunate bargain, but Catherine is at the mercy of her employer, who can toss her out on the street at any moment—and he does when Catherine and her friend Guy, a watchmaker, fail to unearth a magical timepiece buried in a boy’s coffin. Instead, they inexplicably revive the boy permanently. Though he can’t remember anything about his life, the boy is their only link to the timepiece, and finding it is the only way they can save Catherine’s livelihood.\\nSet in an alternate Victorian England, Magic Dark and Strange combines mystery, magic and a touch of the macabre while underscoring the harsh conditions of the working class. Catherine depends on her employer for income and lodging, and her quest for the timepiece gains urgency from her fear of destitution. Guy and his father struggle to keep their shop afloat, and the revived boy must find an apprenticeship or risk the poorhouse.\\nA lack of rules to govern the magical elements of this story may frustrate detail-oriented fantasy fans. Nonetheless, the novel’s moody, gothic atmosphere, appealing romance and brisk mystery plot will satisfy readers who enjoy storytelling that blends genre conventions with ease.']}"
      ]
     },
     "execution_count": 101,
     "metadata": {},
     "output_type": "execute_result"
    }
   ],
   "source": [
    "review={}\n",
    "review['book_review_two']=[]\n",
    "for book_review_two in book_review_two:\n",
    "    review['book_review_two'].append(book_review_two.text)\n",
    "review"
   ]
  },
  {
   "cell_type": "code",
   "execution_count": 102,
   "metadata": {},
   "outputs": [],
   "source": [
    "current_path_url=driver.get(\"https://bookpage.com/reviews/25668-jonathan-daniel-wells-kidnapping-club-nonfiction#.X5RCpdAzbIU\")"
   ]
  },
  {
   "cell_type": "code",
   "execution_count": 103,
   "metadata": {},
   "outputs": [],
   "source": [
    "book_review_three=driver.find_elements_by_xpath(\"//div[@class='span7']\")"
   ]
  },
  {
   "cell_type": "code",
   "execution_count": 105,
   "metadata": {},
   "outputs": [
    {
     "data": {
      "text/plain": [
       "{'book_review_three': ['Urbane and bustling, New York City is often considered the epitome of “Northern-ness.” However, in the decades before the Civil War, the city’s interests were very much in line with those of Southern cotton farmers. Through its finance, insurance and shipping industries, New York probably profited from slave labor more than any other city in the country. The city would do almost anything to appease the Southern states, even if it meant sending its own citizens into slavery.\\nThe Kidnapping Club: Wall Street, Slavery, and Resistance on the Eve of the Civil War by Jonathan Daniel Wells is an eye-opening history of antebellum New York. Wells, a professor of history at the University of Michigan, meticulously details two of New York City’s dirtiest secrets: the city’s illicit backing of the illegal transatlantic slave trade and the Kidnapping Club that helped reinforce it. From the 1830s until the start of the Civil War, and with the support of the city’s judiciary, vigilantes in the Kidnapping Club as well as the police abducted Black New Yorkers on the pretext that they were escaped slaves. With little or no due process, hundreds of men, women and even children were snatched, jailed and then sent south. The broader effects of New York’s illegal slave trade were even more horrific, resulting in the abduction, enslavement and frequently death of hundreds of thousands of West Africans.\\nThere are many villains in this thoroughly researched and fascinating history, including police officers Tobias Boudinot and Daniel Nash, Judge Richard Riker and Mayor Fernando Woods. Yet The Kidnapping Club is more than a story of villainy. It’s also a history of heroes, including David Ruggles, a Black abolitionist who put his body between the victims and their snatchers; Elizabeth Jenkins, who fought against segregated transportation over a century before Rosa Parks; and James McCune Smith, an abolitionist and the first African American to hold a medical degree.\\nMost important of all, The Kidnapping Club restores the names of the abducted: Ben, Hester Jane Carr, Isaac Wright, Frances Shields, John Dickerson and countless others whose lives were destroyed and humanity erased— until now.']}"
      ]
     },
     "execution_count": 105,
     "metadata": {},
     "output_type": "execute_result"
    }
   ],
   "source": [
    "review={}\n",
    "review['book_review_three']=[]\n",
    "for book_review_three in book_review_three:\n",
    "    review['book_review_three'].append(book_review_three.text)\n",
    "review"
   ]
  },
  {
   "cell_type": "code",
   "execution_count": 106,
   "metadata": {},
   "outputs": [],
   "source": [
    "current_path_url=driver.get(\"https://bookpage.com/reviews/25652-cecily-von-ziegesar-cobble-hill-fiction#.X5RDDNAzbIU\")"
   ]
  },
  {
   "cell_type": "code",
   "execution_count": 107,
   "metadata": {},
   "outputs": [
    {
     "data": {
      "text/plain": [
       "{'book_review_four': ['When a person chooses a new home, it’s rarely a decision based on the people who live nearby. The homebuyer’s focus is typically on the property and the neighborhood surrounding it. But once the person moves in, their life will invariably intersect with those of the neighbors.\\nRoy, Wendy and their daughter, Shy, draw a crowd when they move into Cobble Hill, an upscale neighborhood in Brooklyn. Roy is a bestselling British novelist, but the family is ready for a change. They move across the ocean to Wendy’s native New York City, where Roy’s desire to blend in quickly becomes impossible. He’s struggling with his next book, and though she doesn’t admit it to her husband, Wendy is also having trouble with her new magazine job.\\nSoon, Roy is pulled into his neighbor Tupper’s marital drama when Tupper asks Roy to catsit. Tupper’s wife, Elizabeth, is an artist who comes and goes on her whims, and Tupper is anxious and eager for her return. Nearby, Stuart and Mandy face challenges of their own. The couple fell in love in high school, and Stuart found fame as a rock star. But those days are over, and now Stuart works a stable but boring job. Mandy is frustrated with her body’s changes as she enters her mid-30s, and she lies about a medical diagnosis to cover her inertia and grab her husband’s attention, which has recently become divided by Peaches, the elementary school nurse, ever since he met her while picking up his sick son, Ted. Meanwhile, Peaches and her husband, Greg, were longtime fans of Stuart’s band, and she indulges her crush. Peaches and Greg’s son, Liam, doesn’t know what to make of the tension between his parents.\\nIn Cobble Hill, the residents’ lives intersect and tangle with one another as school dramas unfold and neighbors host social gatherings. As the couples examine their significant others’ relationships with the neighbors, author Cecily von Ziegesar (creator of Gossip Girl) spins a fast-paced, funny tale of the sometimes confusing but often entertaining ways neighbors relate to one another.']}"
      ]
     },
     "execution_count": 107,
     "metadata": {},
     "output_type": "execute_result"
    }
   ],
   "source": [
    "book_review_four=driver.find_elements_by_xpath(\"//div[@class='span7']\")\n",
    "review={}\n",
    "review['book_review_four']=[]\n",
    "for book_review_four in book_review_four:\n",
    "    review['book_review_four'].append(book_review_four.text)\n",
    "review"
   ]
  },
  {
   "cell_type": "code",
   "execution_count": 108,
   "metadata": {},
   "outputs": [],
   "source": [
    "current_path_url=driver.get(\"https://bookpage.com/reviews/25561-h-w-brands-zealot-emancipator-nonfiction#.X5RDf9AzbIU\")"
   ]
  },
  {
   "cell_type": "code",
   "execution_count": 109,
   "metadata": {},
   "outputs": [
    {
     "data": {
      "text/plain": [
       "{'book_review_five': ['You might be forgiven for thinking that a book about a firebrand who pushes a centrist politician to take a more just position on race was written about current events. However, The Zealot and the Emancipator by H.W. Brands examines the relationship between two men who never met but played pivotal roles in 19th-century American history: John Brown (the zealot) and Abraham Lincoln (the emancipator).\\nPulitzer Prize finalist Brands is a master storyteller whose previous books have covered topics as diverse as Andrew Jackson, the Gilded Age and post-World War II America. In The Zealot and the Emancipator, Brands uses his lucid writing to explore the rich ironies that surrounded Lincoln and Brown. Brown, a lifelong abolitionist who hated slavery more than he loved his life, raided the federal arsenal at Harpers Ferry, Virginia, in an ill-fated attempt to spark a revolt among enslaved people. Lincoln, a cautious lawyer who loved the Union more than he hated slavery, ignited a civil war two years after Brown was hanged for treason.\\nBrown, who had little time for politics or politicians, gave the new antislavery Republican party the energy it needed to defeat the proslavery Democratic party in the 1860 election. Lincoln, who would have happily given up on the idea of abolition if it would have saved the Union, became the Great Emancipator and the main proponent of the 13th Amendment, which abolished slavery. In the greatest irony of all, the very thing that Lincoln feared would destroy the country—the recognition that slavery was at the crux of the war and must be abolished—actually gave the North the impetus it needed to defeat the Confederacy and reestablish the Union.\\nBrands uses original sources and narrative flair to illuminate how Brown’s fierce moral clarity eventually forced Lincoln to confront the sins of slavery. The result is an informative, absorbing and heartbreaking American story, the reverberations of which are still felt today.']}"
      ]
     },
     "execution_count": 109,
     "metadata": {},
     "output_type": "execute_result"
    }
   ],
   "source": [
    "book_review_five=driver.find_elements_by_xpath(\"//div[@class='span7']\")\n",
    "review={}\n",
    "review['book_review_five']=[]\n",
    "for book_review_five in book_review_five:\n",
    "    review['book_review_five'].append(book_review_five.text)\n",
    "review"
   ]
  },
  {
   "cell_type": "markdown",
   "metadata": {},
   "source": [
    "# q5"
   ]
  },
  {
   "cell_type": "code",
   "execution_count": 110,
   "metadata": {},
   "outputs": [],
   "source": [
    "current_path_url=driver.get(\"https://www.icc-cricket.com/rankings/mens/team-rankings/odi\")"
   ]
  },
  {
   "cell_type": "code",
   "execution_count": 111,
   "metadata": {},
   "outputs": [],
   "source": [
    "top_10_odi_teams=driver.find_elements_by_xpath(\"//span[@class='u-hide-phablet']\")"
   ]
  },
  {
   "cell_type": "code",
   "execution_count": 113,
   "metadata": {},
   "outputs": [
    {
     "name": "stdout",
     "output_type": "stream",
     "text": [
      "10\n"
     ]
    },
    {
     "data": {
      "text/plain": [
       "{'top_10_odi_teams': ['England',\n",
       "  'India',\n",
       "  'New Zealand',\n",
       "  'Australia',\n",
       "  'South Africa',\n",
       "  'Pakistan',\n",
       "  'Bangladesh',\n",
       "  'Sri Lanka',\n",
       "  'West Indies',\n",
       "  'Afghanistan']}"
      ]
     },
     "execution_count": 113,
     "metadata": {},
     "output_type": "execute_result"
    }
   ],
   "source": [
    "top_10_odi_teams=top_10_odi_teams[0:10]\n",
    "print(len(top_10_odi_teams))\n",
    "teams={}\n",
    "teams['top_10_odi_teams']=[]\n",
    "for top_10_odi_teams in top_10_odi_teams:\n",
    "    teams['top_10_odi_teams'].append(top_10_odi_teams.text)\n",
    "teams"
   ]
  },
  {
   "cell_type": "code",
   "execution_count": 148,
   "metadata": {},
   "outputs": [
    {
     "data": {
      "text/plain": [
       "<selenium.webdriver.remote.webelement.WebElement (session=\"697a2e2ab50ccc903acf828d92e4a54a\", element=\"136f6cd9-4779-413a-92d1-3f18fbe616dc\")>"
      ]
     },
     "execution_count": 148,
     "metadata": {},
     "output_type": "execute_result"
    }
   ],
   "source": [
    "top_10_odi_teams"
   ]
  },
  {
   "cell_type": "code",
   "execution_count": null,
   "metadata": {},
   "outputs": [],
   "source": []
  },
  {
   "cell_type": "code",
   "execution_count": null,
   "metadata": {},
   "outputs": [],
   "source": []
  },
  {
   "cell_type": "code",
   "execution_count": null,
   "metadata": {
    "scrolled": true
   },
   "outputs": [],
   "source": []
  },
  {
   "cell_type": "code",
   "execution_count": 156,
   "metadata": {},
   "outputs": [],
   "source": [
    "current_path_url=driver.get(\"https://www.icc-cricket.com/rankings/mens/player-rankings/odi/batting\")"
   ]
  },
  {
   "cell_type": "code",
   "execution_count": 162,
   "metadata": {},
   "outputs": [],
   "source": [
    "top_10_player_names=driver.find_elements_by_xpath(\"//tr[@class='table-body']\")"
   ]
  },
  {
   "cell_type": "code",
   "execution_count": 163,
   "metadata": {},
   "outputs": [
    {
     "data": {
      "text/plain": [
       "[<selenium.webdriver.remote.webelement.WebElement (session=\"fb7c65b2edd70a65cd2f56d9a3f2d6c3\", element=\"cf69e04b-8878-44a8-842d-65b2f8a35011\")>,\n",
       " <selenium.webdriver.remote.webelement.WebElement (session=\"fb7c65b2edd70a65cd2f56d9a3f2d6c3\", element=\"fcbdc598-971e-4e39-ad46-90b97b47a10a\")>,\n",
       " <selenium.webdriver.remote.webelement.WebElement (session=\"fb7c65b2edd70a65cd2f56d9a3f2d6c3\", element=\"e6bc53e2-54dc-4ff5-85c7-32ecc624bb25\")>,\n",
       " <selenium.webdriver.remote.webelement.WebElement (session=\"fb7c65b2edd70a65cd2f56d9a3f2d6c3\", element=\"3fbbc4e3-b9fc-46a7-9390-7ef94d98942f\")>,\n",
       " <selenium.webdriver.remote.webelement.WebElement (session=\"fb7c65b2edd70a65cd2f56d9a3f2d6c3\", element=\"6db54036-d064-484b-b424-acbd93332c97\")>,\n",
       " <selenium.webdriver.remote.webelement.WebElement (session=\"fb7c65b2edd70a65cd2f56d9a3f2d6c3\", element=\"a1841527-3cae-4e69-b2a5-fe3f9d04ded9\")>,\n",
       " <selenium.webdriver.remote.webelement.WebElement (session=\"fb7c65b2edd70a65cd2f56d9a3f2d6c3\", element=\"13bfa378-5812-41d9-bbc1-dbc5dd9ac3cc\")>,\n",
       " <selenium.webdriver.remote.webelement.WebElement (session=\"fb7c65b2edd70a65cd2f56d9a3f2d6c3\", element=\"1cd53622-1b5f-48f3-8c43-102cf161d27a\")>,\n",
       " <selenium.webdriver.remote.webelement.WebElement (session=\"fb7c65b2edd70a65cd2f56d9a3f2d6c3\", element=\"59d36cf2-3656-4b41-ae99-916dba09da52\")>,\n",
       " <selenium.webdriver.remote.webelement.WebElement (session=\"fb7c65b2edd70a65cd2f56d9a3f2d6c3\", element=\"5eac6685-47de-4446-8a38-178a453b270d\")>,\n",
       " <selenium.webdriver.remote.webelement.WebElement (session=\"fb7c65b2edd70a65cd2f56d9a3f2d6c3\", element=\"0ca271a5-2e83-4cc5-82a1-83f491039a4b\")>,\n",
       " <selenium.webdriver.remote.webelement.WebElement (session=\"fb7c65b2edd70a65cd2f56d9a3f2d6c3\", element=\"5475f547-af21-4b3c-91f7-d4bc530b4e31\")>,\n",
       " <selenium.webdriver.remote.webelement.WebElement (session=\"fb7c65b2edd70a65cd2f56d9a3f2d6c3\", element=\"f6a1d9f4-1eb0-4d7e-a50d-b236b5a75b6a\")>,\n",
       " <selenium.webdriver.remote.webelement.WebElement (session=\"fb7c65b2edd70a65cd2f56d9a3f2d6c3\", element=\"02b8b629-4a23-4655-bbbf-daee2bb29519\")>,\n",
       " <selenium.webdriver.remote.webelement.WebElement (session=\"fb7c65b2edd70a65cd2f56d9a3f2d6c3\", element=\"9efaf129-801c-47f2-99c2-ee737f8b1f77\")>,\n",
       " <selenium.webdriver.remote.webelement.WebElement (session=\"fb7c65b2edd70a65cd2f56d9a3f2d6c3\", element=\"e2d9e556-a9e5-428a-808d-4c47a25b16c4\")>,\n",
       " <selenium.webdriver.remote.webelement.WebElement (session=\"fb7c65b2edd70a65cd2f56d9a3f2d6c3\", element=\"db90fbfb-b235-42d4-a391-72d9704dc333\")>,\n",
       " <selenium.webdriver.remote.webelement.WebElement (session=\"fb7c65b2edd70a65cd2f56d9a3f2d6c3\", element=\"aa2ea594-ae54-4ca6-adb8-9270a699027d\")>,\n",
       " <selenium.webdriver.remote.webelement.WebElement (session=\"fb7c65b2edd70a65cd2f56d9a3f2d6c3\", element=\"10603039-a85c-4383-9a22-aa54995a5a7f\")>,\n",
       " <selenium.webdriver.remote.webelement.WebElement (session=\"fb7c65b2edd70a65cd2f56d9a3f2d6c3\", element=\"4876b83d-e0e7-4ad5-a401-b3c0f64e6945\")>,\n",
       " <selenium.webdriver.remote.webelement.WebElement (session=\"fb7c65b2edd70a65cd2f56d9a3f2d6c3\", element=\"b3210460-f8a6-4a29-a971-015321a5c451\")>,\n",
       " <selenium.webdriver.remote.webelement.WebElement (session=\"fb7c65b2edd70a65cd2f56d9a3f2d6c3\", element=\"5ccb5844-1959-45d2-913f-39e530b52539\")>,\n",
       " <selenium.webdriver.remote.webelement.WebElement (session=\"fb7c65b2edd70a65cd2f56d9a3f2d6c3\", element=\"f1d3666e-f09b-41ad-9ed4-36eef939d580\")>,\n",
       " <selenium.webdriver.remote.webelement.WebElement (session=\"fb7c65b2edd70a65cd2f56d9a3f2d6c3\", element=\"20ad85e8-277a-4473-851b-25912b454b16\")>,\n",
       " <selenium.webdriver.remote.webelement.WebElement (session=\"fb7c65b2edd70a65cd2f56d9a3f2d6c3\", element=\"c1259e07-ff81-469a-97c1-7d952c604039\")>,\n",
       " <selenium.webdriver.remote.webelement.WebElement (session=\"fb7c65b2edd70a65cd2f56d9a3f2d6c3\", element=\"398a7c1d-93a6-4a3c-b8d5-a43cef56b88c\")>,\n",
       " <selenium.webdriver.remote.webelement.WebElement (session=\"fb7c65b2edd70a65cd2f56d9a3f2d6c3\", element=\"a61f3bf4-1bbc-431d-a1d8-5d40230bfaa6\")>,\n",
       " <selenium.webdriver.remote.webelement.WebElement (session=\"fb7c65b2edd70a65cd2f56d9a3f2d6c3\", element=\"3ffe9fa1-7bfb-41fa-88f5-6a387be0ab1f\")>,\n",
       " <selenium.webdriver.remote.webelement.WebElement (session=\"fb7c65b2edd70a65cd2f56d9a3f2d6c3\", element=\"425971a4-971c-44e4-9881-ecf6d6076659\")>,\n",
       " <selenium.webdriver.remote.webelement.WebElement (session=\"fb7c65b2edd70a65cd2f56d9a3f2d6c3\", element=\"aa6e597f-439e-4dc2-9952-8771215b227d\")>,\n",
       " <selenium.webdriver.remote.webelement.WebElement (session=\"fb7c65b2edd70a65cd2f56d9a3f2d6c3\", element=\"2d543c8e-7a9f-43c6-99e4-7cabfeb5519a\")>,\n",
       " <selenium.webdriver.remote.webelement.WebElement (session=\"fb7c65b2edd70a65cd2f56d9a3f2d6c3\", element=\"bdb40c8a-dce5-41f6-aa88-688fa358e021\")>,\n",
       " <selenium.webdriver.remote.webelement.WebElement (session=\"fb7c65b2edd70a65cd2f56d9a3f2d6c3\", element=\"8720eb25-9f37-4267-984a-c3778eecb729\")>,\n",
       " <selenium.webdriver.remote.webelement.WebElement (session=\"fb7c65b2edd70a65cd2f56d9a3f2d6c3\", element=\"ef406d1a-2dc0-4b98-b207-713f4c67bb11\")>,\n",
       " <selenium.webdriver.remote.webelement.WebElement (session=\"fb7c65b2edd70a65cd2f56d9a3f2d6c3\", element=\"e3fd9d84-46c9-43be-8d55-9a861ac32aad\")>,\n",
       " <selenium.webdriver.remote.webelement.WebElement (session=\"fb7c65b2edd70a65cd2f56d9a3f2d6c3\", element=\"8a16603f-2ad6-499e-b1d1-a4a37db656e5\")>,\n",
       " <selenium.webdriver.remote.webelement.WebElement (session=\"fb7c65b2edd70a65cd2f56d9a3f2d6c3\", element=\"ef20d037-ec4a-4704-98bc-66f5c32327ae\")>,\n",
       " <selenium.webdriver.remote.webelement.WebElement (session=\"fb7c65b2edd70a65cd2f56d9a3f2d6c3\", element=\"f9ff3975-f03e-45ba-8ee7-4525f9f487d0\")>,\n",
       " <selenium.webdriver.remote.webelement.WebElement (session=\"fb7c65b2edd70a65cd2f56d9a3f2d6c3\", element=\"9baebce0-21dc-4204-8a1b-f8598bd8e389\")>,\n",
       " <selenium.webdriver.remote.webelement.WebElement (session=\"fb7c65b2edd70a65cd2f56d9a3f2d6c3\", element=\"85555e39-1e00-4fa6-b279-5e99926223f7\")>,\n",
       " <selenium.webdriver.remote.webelement.WebElement (session=\"fb7c65b2edd70a65cd2f56d9a3f2d6c3\", element=\"77e83a4e-dd54-4497-80c3-dc72df2910b5\")>,\n",
       " <selenium.webdriver.remote.webelement.WebElement (session=\"fb7c65b2edd70a65cd2f56d9a3f2d6c3\", element=\"3d8e2183-d240-446c-a563-93d6b8d4b94e\")>,\n",
       " <selenium.webdriver.remote.webelement.WebElement (session=\"fb7c65b2edd70a65cd2f56d9a3f2d6c3\", element=\"014e8fed-a2e2-44cd-999a-b02730b25a67\")>,\n",
       " <selenium.webdriver.remote.webelement.WebElement (session=\"fb7c65b2edd70a65cd2f56d9a3f2d6c3\", element=\"552d5d88-c138-4b4d-91bc-6d09dab06d8a\")>,\n",
       " <selenium.webdriver.remote.webelement.WebElement (session=\"fb7c65b2edd70a65cd2f56d9a3f2d6c3\", element=\"f5c796bc-20fc-4424-a4bb-cc175696508e\")>,\n",
       " <selenium.webdriver.remote.webelement.WebElement (session=\"fb7c65b2edd70a65cd2f56d9a3f2d6c3\", element=\"eeba0d6e-b09b-4edf-ba8f-a709063edfac\")>,\n",
       " <selenium.webdriver.remote.webelement.WebElement (session=\"fb7c65b2edd70a65cd2f56d9a3f2d6c3\", element=\"8441b2bd-8e66-4da4-8c06-89757b6be776\")>,\n",
       " <selenium.webdriver.remote.webelement.WebElement (session=\"fb7c65b2edd70a65cd2f56d9a3f2d6c3\", element=\"3337ab2e-5c60-486f-9c76-db580f82c33c\")>,\n",
       " <selenium.webdriver.remote.webelement.WebElement (session=\"fb7c65b2edd70a65cd2f56d9a3f2d6c3\", element=\"9ebd3ec1-04bd-41b8-9995-966298cdd1ba\")>,\n",
       " <selenium.webdriver.remote.webelement.WebElement (session=\"fb7c65b2edd70a65cd2f56d9a3f2d6c3\", element=\"595e1440-c742-4ae1-b456-58e214f99168\")>,\n",
       " <selenium.webdriver.remote.webelement.WebElement (session=\"fb7c65b2edd70a65cd2f56d9a3f2d6c3\", element=\"34f21579-b41f-4692-97a6-c929e02611b5\")>,\n",
       " <selenium.webdriver.remote.webelement.WebElement (session=\"fb7c65b2edd70a65cd2f56d9a3f2d6c3\", element=\"198d6396-7e81-44fa-acb2-76421907cd71\")>,\n",
       " <selenium.webdriver.remote.webelement.WebElement (session=\"fb7c65b2edd70a65cd2f56d9a3f2d6c3\", element=\"d97c2385-56db-444c-92c9-6cb23befb6f8\")>,\n",
       " <selenium.webdriver.remote.webelement.WebElement (session=\"fb7c65b2edd70a65cd2f56d9a3f2d6c3\", element=\"5ae33ff6-f458-48fb-aaa2-0b5d1ae8da3e\")>,\n",
       " <selenium.webdriver.remote.webelement.WebElement (session=\"fb7c65b2edd70a65cd2f56d9a3f2d6c3\", element=\"4983c8bb-5129-408d-b5d7-814ace97eb23\")>,\n",
       " <selenium.webdriver.remote.webelement.WebElement (session=\"fb7c65b2edd70a65cd2f56d9a3f2d6c3\", element=\"8489bdfb-128f-4c03-9053-6c75828b4636\")>,\n",
       " <selenium.webdriver.remote.webelement.WebElement (session=\"fb7c65b2edd70a65cd2f56d9a3f2d6c3\", element=\"b6e2e6eb-9bf4-4245-a543-70339a7bb426\")>,\n",
       " <selenium.webdriver.remote.webelement.WebElement (session=\"fb7c65b2edd70a65cd2f56d9a3f2d6c3\", element=\"8eecba9f-c796-4d6f-8ff8-6cbe5c788717\")>,\n",
       " <selenium.webdriver.remote.webelement.WebElement (session=\"fb7c65b2edd70a65cd2f56d9a3f2d6c3\", element=\"21bd6adc-aa60-4cd6-a147-f6e35a5b37d6\")>,\n",
       " <selenium.webdriver.remote.webelement.WebElement (session=\"fb7c65b2edd70a65cd2f56d9a3f2d6c3\", element=\"6d696961-3bc8-4fb1-b4ab-b06b702d0232\")>,\n",
       " <selenium.webdriver.remote.webelement.WebElement (session=\"fb7c65b2edd70a65cd2f56d9a3f2d6c3\", element=\"a3d55112-cb08-4837-9ea8-bda7114d6a9a\")>,\n",
       " <selenium.webdriver.remote.webelement.WebElement (session=\"fb7c65b2edd70a65cd2f56d9a3f2d6c3\", element=\"99697d81-bddb-4891-9d8e-b702ff15268c\")>,\n",
       " <selenium.webdriver.remote.webelement.WebElement (session=\"fb7c65b2edd70a65cd2f56d9a3f2d6c3\", element=\"0741baeb-a824-45f8-b0a5-f653460a7208\")>,\n",
       " <selenium.webdriver.remote.webelement.WebElement (session=\"fb7c65b2edd70a65cd2f56d9a3f2d6c3\", element=\"112fc9c3-3f7a-4aec-a380-04ae16e5c964\")>,\n",
       " <selenium.webdriver.remote.webelement.WebElement (session=\"fb7c65b2edd70a65cd2f56d9a3f2d6c3\", element=\"4faf1075-c68e-4329-9e6d-cdecefe0f5d2\")>,\n",
       " <selenium.webdriver.remote.webelement.WebElement (session=\"fb7c65b2edd70a65cd2f56d9a3f2d6c3\", element=\"c232fa45-5686-430d-bf23-df65a42d6ce5\")>,\n",
       " <selenium.webdriver.remote.webelement.WebElement (session=\"fb7c65b2edd70a65cd2f56d9a3f2d6c3\", element=\"068f0122-9e19-43ed-a568-d5cc05ca2c32\")>,\n",
       " <selenium.webdriver.remote.webelement.WebElement (session=\"fb7c65b2edd70a65cd2f56d9a3f2d6c3\", element=\"65f98212-c80e-4f54-b5c4-9758eddd29b1\")>,\n",
       " <selenium.webdriver.remote.webelement.WebElement (session=\"fb7c65b2edd70a65cd2f56d9a3f2d6c3\", element=\"02ea8b1e-62a5-43bd-83af-46371bd9bcc4\")>,\n",
       " <selenium.webdriver.remote.webelement.WebElement (session=\"fb7c65b2edd70a65cd2f56d9a3f2d6c3\", element=\"80ee5874-af8f-4432-ad43-feab4ad89eb8\")>,\n",
       " <selenium.webdriver.remote.webelement.WebElement (session=\"fb7c65b2edd70a65cd2f56d9a3f2d6c3\", element=\"58c688a3-8a18-42eb-b6d1-a14585e3095f\")>,\n",
       " <selenium.webdriver.remote.webelement.WebElement (session=\"fb7c65b2edd70a65cd2f56d9a3f2d6c3\", element=\"8edd6b7a-3238-4b67-a088-74141ace5223\")>,\n",
       " <selenium.webdriver.remote.webelement.WebElement (session=\"fb7c65b2edd70a65cd2f56d9a3f2d6c3\", element=\"63d07544-0105-45ac-9a43-91b1a4470b2a\")>,\n",
       " <selenium.webdriver.remote.webelement.WebElement (session=\"fb7c65b2edd70a65cd2f56d9a3f2d6c3\", element=\"a1aac27c-964f-46bc-8874-8d196db4e4f0\")>,\n",
       " <selenium.webdriver.remote.webelement.WebElement (session=\"fb7c65b2edd70a65cd2f56d9a3f2d6c3\", element=\"7fe4b8a1-b3df-4c87-9f9b-54b4e4f9f112\")>,\n",
       " <selenium.webdriver.remote.webelement.WebElement (session=\"fb7c65b2edd70a65cd2f56d9a3f2d6c3\", element=\"1029ae12-a7d6-4974-93bf-71d16906c722\")>,\n",
       " <selenium.webdriver.remote.webelement.WebElement (session=\"fb7c65b2edd70a65cd2f56d9a3f2d6c3\", element=\"9082a726-53d3-4c99-b634-55c9cb92a249\")>,\n",
       " <selenium.webdriver.remote.webelement.WebElement (session=\"fb7c65b2edd70a65cd2f56d9a3f2d6c3\", element=\"315854d0-7b7e-445b-8509-3490a42a6ec3\")>,\n",
       " <selenium.webdriver.remote.webelement.WebElement (session=\"fb7c65b2edd70a65cd2f56d9a3f2d6c3\", element=\"d9601d4b-4f5d-4be1-905d-6a6a6178c585\")>,\n",
       " <selenium.webdriver.remote.webelement.WebElement (session=\"fb7c65b2edd70a65cd2f56d9a3f2d6c3\", element=\"e6da2dd1-057b-49e6-b975-0c57a9269f52\")>,\n",
       " <selenium.webdriver.remote.webelement.WebElement (session=\"fb7c65b2edd70a65cd2f56d9a3f2d6c3\", element=\"b6b246ca-aec6-4b61-a5e1-95961d556903\")>,\n",
       " <selenium.webdriver.remote.webelement.WebElement (session=\"fb7c65b2edd70a65cd2f56d9a3f2d6c3\", element=\"e9ddd92b-321f-4f5b-87c7-e1cb17a0875f\")>,\n",
       " <selenium.webdriver.remote.webelement.WebElement (session=\"fb7c65b2edd70a65cd2f56d9a3f2d6c3\", element=\"00085067-7c6d-4bed-9257-cb0b620c287f\")>,\n",
       " <selenium.webdriver.remote.webelement.WebElement (session=\"fb7c65b2edd70a65cd2f56d9a3f2d6c3\", element=\"2155da6a-3427-41dc-8546-f73a32c56734\")>,\n",
       " <selenium.webdriver.remote.webelement.WebElement (session=\"fb7c65b2edd70a65cd2f56d9a3f2d6c3\", element=\"360c10a8-c078-4387-8811-7cdf9a6fd892\")>,\n",
       " <selenium.webdriver.remote.webelement.WebElement (session=\"fb7c65b2edd70a65cd2f56d9a3f2d6c3\", element=\"21c3f833-0654-42f2-97b5-c02db52a1511\")>,\n",
       " <selenium.webdriver.remote.webelement.WebElement (session=\"fb7c65b2edd70a65cd2f56d9a3f2d6c3\", element=\"b65c4d5b-6be5-4bb3-b39c-4c2113111489\")>,\n",
       " <selenium.webdriver.remote.webelement.WebElement (session=\"fb7c65b2edd70a65cd2f56d9a3f2d6c3\", element=\"be2849d8-1e4f-4b86-94a0-00def1fd7c1f\")>,\n",
       " <selenium.webdriver.remote.webelement.WebElement (session=\"fb7c65b2edd70a65cd2f56d9a3f2d6c3\", element=\"53b686dd-6f34-49a3-b6a9-4873d7b2b2d2\")>,\n",
       " <selenium.webdriver.remote.webelement.WebElement (session=\"fb7c65b2edd70a65cd2f56d9a3f2d6c3\", element=\"4b67d976-309d-4a8a-9e63-e396e5f30b24\")>,\n",
       " <selenium.webdriver.remote.webelement.WebElement (session=\"fb7c65b2edd70a65cd2f56d9a3f2d6c3\", element=\"4bfe7a8a-74ab-4638-a41f-6818faa2bcf9\")>,\n",
       " <selenium.webdriver.remote.webelement.WebElement (session=\"fb7c65b2edd70a65cd2f56d9a3f2d6c3\", element=\"63d46850-89c7-4129-8270-f8baccc90357\")>,\n",
       " <selenium.webdriver.remote.webelement.WebElement (session=\"fb7c65b2edd70a65cd2f56d9a3f2d6c3\", element=\"4ea71c94-7b5f-40fc-bd26-019cdd2f1978\")>,\n",
       " <selenium.webdriver.remote.webelement.WebElement (session=\"fb7c65b2edd70a65cd2f56d9a3f2d6c3\", element=\"d6b69372-c5e4-4402-a7c7-268484f2533e\")>,\n",
       " <selenium.webdriver.remote.webelement.WebElement (session=\"fb7c65b2edd70a65cd2f56d9a3f2d6c3\", element=\"5c7ed570-c989-4008-99a2-9daf68df1304\")>,\n",
       " <selenium.webdriver.remote.webelement.WebElement (session=\"fb7c65b2edd70a65cd2f56d9a3f2d6c3\", element=\"e2d15d41-3d9d-474b-8801-5a2933829d25\")>,\n",
       " <selenium.webdriver.remote.webelement.WebElement (session=\"fb7c65b2edd70a65cd2f56d9a3f2d6c3\", element=\"2096d0d8-f092-4eec-96f2-e341eba331c4\")>,\n",
       " <selenium.webdriver.remote.webelement.WebElement (session=\"fb7c65b2edd70a65cd2f56d9a3f2d6c3\", element=\"0a190ee3-5d56-4d53-b2da-eed82303411c\")>,\n",
       " <selenium.webdriver.remote.webelement.WebElement (session=\"fb7c65b2edd70a65cd2f56d9a3f2d6c3\", element=\"d72e5adc-119a-4429-97d6-0ee5d1391415\")>]"
      ]
     },
     "execution_count": 163,
     "metadata": {},
     "output_type": "execute_result"
    }
   ],
   "source": [
    "top_10_player_names"
   ]
  },
  {
   "cell_type": "code",
   "execution_count": null,
   "metadata": {},
   "outputs": [],
   "source": []
  },
  {
   "cell_type": "code",
   "execution_count": 164,
   "metadata": {},
   "outputs": [
    {
     "name": "stdout",
     "output_type": "stream",
     "text": [
      "10\n"
     ]
    },
    {
     "data": {
      "text/plain": [
       "{'top_10_player_names': ['2 Rohit Sharma IND 855 885 v Sri Lanka, 06/07/2019',\n",
       "  '3 Babar Azam PAK 829 846 v Sri Lanka, 20/10/2017',\n",
       "  '4 Ross Taylor NZ 818 841 v Bangladesh, 05/06/2019',\n",
       "  '5 Francois du Plessis SA 790 820 v Australia, 06/07/2019',\n",
       "  '6 Kane Williamson NZ 765 799 v India, 09/07/2019',\n",
       "  '7 Aaron Finch AUS 762 798 v England, 25/06/2019',\n",
       "  '8 David Warner AUS 759 880 v Pakistan, 26/01/2017',\n",
       "  '9 Quinton de Kock SA 755 813 v Sri Lanka, 10/03/2019',\n",
       "  '10 Jonny Bairstow ENG 754 777 v Australia, 21/06/2018',\n",
       "  '11 Imam-ul-Haq PAK 752 764 v Bangladesh, 05/07/2019']}"
      ]
     },
     "execution_count": 164,
     "metadata": {},
     "output_type": "execute_result"
    }
   ],
   "source": [
    "top_10_player_names=top_10_player_names[0:10]\n",
    "print(len(top_10_player_names))\n",
    "players={}\n",
    "players['top_10_player_names']=[]\n",
    "for top_10_player_names in top_10_player_names:\n",
    "    players['top_10_player_names'].append(top_10_player_names.text)\n",
    "players"
   ]
  },
  {
   "cell_type": "code",
   "execution_count": 165,
   "metadata": {},
   "outputs": [],
   "source": [
    "current_path_url=driver.get(\"https://www.icc-cricket.com/rankings/mens/player-rankings/odi/bowling\")"
   ]
  },
  {
   "cell_type": "code",
   "execution_count": 166,
   "metadata": {},
   "outputs": [],
   "source": [
    "top_10_player_names=driver.find_elements_by_xpath(\"//tr[@class='table-body']\")"
   ]
  },
  {
   "cell_type": "code",
   "execution_count": 167,
   "metadata": {},
   "outputs": [
    {
     "name": "stdout",
     "output_type": "stream",
     "text": [
      "10\n"
     ]
    },
    {
     "data": {
      "text/plain": [
       "{'top_10_player_names': ['2 Jasprit Bumrah IND 719 841 v West Indies, 01/11/2018',\n",
       "  '3 Mujeeb Ur Rahman AFG 701 707 v West Indies, 11/11/2019',\n",
       "  '4 Chris Woakes ENG 675 676 v New Zealand, 14/07/2019',\n",
       "  '5 Kagiso Rabada SA 665 724 v England, 29/05/2017',\n",
       "  '6 Pat Cummins AUS 659 729 v Pakistan, 12/06/2019',\n",
       "  '7 Mohammad Amir PAK 657 663 v Sri Lanka, 02/10/2019',\n",
       "  '8 Josh Hazlewood AUS 654 733 v England, 26/01/2018',\n",
       "  '9 Matt Henry NZ 641 675 v Australia, 08/02/2016',\n",
       "  '10 Jofra Archer ENG 637 642 v Australia, 13/09/2020',\n",
       "  'Mitchell Starc AUS 637 783 v New Zealand, 29/03/2015']}"
      ]
     },
     "execution_count": 167,
     "metadata": {},
     "output_type": "execute_result"
    }
   ],
   "source": [
    "top_10_player_names=top_10_player_names[0:10]\n",
    "print(len(top_10_player_names))\n",
    "players={}\n",
    "players['top_10_player_names']=[]\n",
    "for top_10_player_names in top_10_player_names:\n",
    "    players['top_10_player_names'].append(top_10_player_names.text)\n",
    "players"
   ]
  },
  {
   "cell_type": "code",
   "execution_count": null,
   "metadata": {},
   "outputs": [],
   "source": []
  }
 ],
 "metadata": {
  "kernelspec": {
   "display_name": "Python 3",
   "language": "python",
   "name": "python3"
  }
 },
 "nbformat": 4,
 "nbformat_minor": 4
}
