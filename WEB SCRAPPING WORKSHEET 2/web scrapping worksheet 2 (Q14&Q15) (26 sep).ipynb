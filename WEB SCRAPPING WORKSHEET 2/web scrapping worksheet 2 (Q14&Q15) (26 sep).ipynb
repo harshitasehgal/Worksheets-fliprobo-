{
 "cells": [
  {
   "cell_type": "code",
   "execution_count": 1,
   "metadata": {},
   "outputs": [],
   "source": [
    "import selenium\n",
    "from selenium import webdriver\n",
    "import os"
   ]
  },
  {
   "cell_type": "code",
   "execution_count": 2,
   "metadata": {},
   "outputs": [],
   "source": [
    "from webdriver_manager.chrome import ChromeDriverManager"
   ]
  },
  {
   "cell_type": "code",
   "execution_count": 3,
   "metadata": {},
   "outputs": [
    {
     "name": "stderr",
     "output_type": "stream",
     "text": [
      "[WDM] - Current google-chrome version is 85.0.4183\n",
      "[WDM] - Get LATEST driver version for 85.0.4183\n"
     ]
    },
    {
     "name": "stdout",
     "output_type": "stream",
     "text": [
      " \n"
     ]
    },
    {
     "name": "stderr",
     "output_type": "stream",
     "text": [
      "[WDM] - Driver [C:\\Users\\COMP\\.wdm\\drivers\\chromedriver\\win32\\85.0.4183.87\\chromedriver.exe] found in cache\n"
     ]
    }
   ],
   "source": [
    "DRIVER_PATH = webdriver.Chrome(ChromeDriverManager().install())"
   ]
  },
  {
   "cell_type": "code",
   "execution_count": 4,
   "metadata": {},
   "outputs": [],
   "source": [
    "driver=DRIVER_PATH"
   ]
  },
  {
   "cell_type": "code",
   "execution_count": 5,
   "metadata": {},
   "outputs": [],
   "source": [
    "def make_directory(dirname):    \n",
    "    current_path=os.getcwd()\n",
    "    path=os.path.join(current_path,dirname)\n",
    "    if not os.path.exists(path):\n",
    "        os.makedirs(path)\n",
    "    \n",
    "        "
   ]
  },
  {
   "cell_type": "code",
   "execution_count": 6,
   "metadata": {},
   "outputs": [],
   "source": [
    "make_directory(\"sunglasses\")"
   ]
  },
  {
   "cell_type": "code",
   "execution_count": 7,
   "metadata": {},
   "outputs": [
    {
     "data": {
      "text/plain": [
       "'C:\\\\Users\\\\COMP'"
      ]
     },
     "execution_count": 7,
     "metadata": {},
     "output_type": "execute_result"
    }
   ],
   "source": [
    "os.getcwd()"
   ]
  },
  {
   "cell_type": "code",
   "execution_count": 67,
   "metadata": {},
   "outputs": [],
   "source": [
    "current_path_url=driver.get(\"https://www.flipkart.com/sunglasses/ray-ban~brand/pr?sid=26x\")"
   ]
  },
  {
   "cell_type": "code",
   "execution_count": 68,
   "metadata": {},
   "outputs": [],
   "source": [
    "images=driver.find_elements_by_xpath(\"//img[@class='_3togXc']\")"
   ]
  },
  {
   "cell_type": "code",
   "execution_count": null,
   "metadata": {},
   "outputs": [],
   "source": []
  },
  {
   "cell_type": "code",
   "execution_count": 69,
   "metadata": {},
   "outputs": [
    {
     "data": {
      "text/plain": [
       "10"
      ]
     },
     "execution_count": 69,
     "metadata": {},
     "output_type": "execute_result"
    }
   ],
   "source": [
    "images=images[0:10]\n",
    "len(images)"
   ]
  },
  {
   "cell_type": "markdown",
   "metadata": {},
   "source": [
    " # Q14(DOWNLOADING 10 IMAGES OF SUNGLASSES AND STORING IN DIRECTORY)"
   ]
  },
  {
   "cell_type": "code",
   "execution_count": 70,
   "metadata": {},
   "outputs": [
    {
     "name": "stdout",
     "output_type": "stream",
     "text": [
      "https://rukminim1.flixcart.com/image/329/395/sunglass/3/c/h/0rb3025i-001-51-ray-ban-58-original-imadwmsxjgyk8zj5.jpeg?q=50\n",
      "https://rukminim1.flixcart.com/image/329/395/k8ho0i80/sunglass/p/t/k/54-0rb4171-ray-ban-original-imafqhhduexfsrgv.jpeg?q=50\n",
      "https://rukminim1.flixcart.com/image/329/395/jj8vyq80/sunglass/w/x/d/55-0rb4165-ray-ban-original-imaf6sstqryqkgze.jpeg?q=50\n",
      "https://rukminim1.flixcart.com/image/329/395/juu4jgw0/sunglass/k/c/k/55-0rb35889146-155-ray-ban-original-imaffhqbqarmveff.jpeg?q=50\n",
      "https://rukminim1.flixcart.com/image/329/395/jcgjo280/sunglass/f/z/j/0rb3025il020558-58-ray-ban-original-imaffh7kugyggnff.jpeg?q=50\n",
      "https://rukminim1.flixcart.com/image/329/395/jj7givk0/sunglass/h/2/h/58-0rb3025i-ray-ban-original-imaexcmg93ybdxb9.jpeg?q=50\n",
      "https://rukminim1.flixcart.com/image/329/395/k8ho0i80/sunglass/a/g/h/51-0rb4252i-ray-ban-original-imafqhhd3ufhm4d7.jpeg?q=50\n",
      "https://rukminim1.flixcart.com/image/329/395/sunglass/q/j/z/0rb3025i031-3258-ray-ban-58-original-imadtrdtyy7xx56p.jpeg?q=50\n",
      "https://rukminim1.flixcart.com/image/329/395/sunglass/w/f/g/0rb3025112-4l58-ray-ban-58-original-imaeazzaxrxkmngk.jpeg?q=50\n",
      "https://rukminim1.flixcart.com/image/329/395/k8ho0i80/sunglass/f/j/j/56-0rb4387601-7156-ray-ban-original-imafqhhcbptjbjxj.jpeg?q=50\n"
     ]
    }
   ],
   "source": [
    "urls=[]\n",
    "for image in images:\n",
    "    source=image.get_attribute('src')\n",
    "    urls.append(source)\n",
    "    print(source)"
   ]
  },
  {
   "cell_type": "code",
   "execution_count": 71,
   "metadata": {},
   "outputs": [],
   "source": [
    "import requests\n",
    "import shutil"
   ]
  },
  {
   "cell_type": "code",
   "execution_count": 72,
   "metadata": {},
   "outputs": [
    {
     "name": "stdout",
     "output_type": "stream",
     "text": [
      "downloading 1 of 10 images \n",
      "downloading 2 of 10 images \n",
      "downloading 3 of 10 images \n",
      "downloading 4 of 10 images \n",
      "downloading 5 of 10 images \n",
      "downloading 6 of 10 images \n",
      "downloading 7 of 10 images \n",
      "downloading 8 of 10 images \n",
      "downloading 9 of 10 images \n",
      "downloading 10 of 10 images \n"
     ]
    }
   ],
   "source": [
    "page=1\n",
    "for index, link in enumerate(urls):\n",
    "    print(\"downloading {0} of {1} images \".format(index+1,len(urls)))\n",
    "    response=requests.get(link)\n",
    "    with open('sunglasses/img_{0}{1}.jpeg'.format(index,page),\"wb\")as file:\n",
    "        file.write(response.content)\n",
    "          "
   ]
  },
  {
   "cell_type": "markdown",
   "metadata": {},
   "source": [
    "# Q15 (PRICES AND MODEL_NAMES OF 20 MOUSES PRICES LESS THAN 500(FOR THIS PURPOSE I MANUALLY SELECTED THE RANGE AT AMAZON SITE AND THEN SELECTED THAT URL ))"
   ]
  },
  {
   "cell_type": "code",
   "execution_count": 15,
   "metadata": {},
   "outputs": [],
   "source": [
    "current_path_url=driver.get(\"https://www.amazon.in/s?i=computers&bbn=1375420031&rh=n%3A976392031%2Cn%3A976393031%2Cn%3A1375248031%2Cn%3A1375412031%2Cn%3A1375420031%2Cp_n_feature_two_browse-bin%3A7004986031%7C7004987031%2Cp_36%3A10000-50000&pf_rd_i=1375420031&pf_rd_m=A1K21FY43GMZF8&pf_rd_p=ffd16c00-6226-442d-8b76-4cdd0ce0333e&pf_rd_r=HEZTR67TKCMTDCQ4CE78&pf_rd_s=merchandised-search-1&pf_rd_t=101&qid=1601131203&rnid=1318502031&ref=sr_nr_p_36_5\")"
   ]
  },
  {
   "cell_type": "code",
   "execution_count": 16,
   "metadata": {},
   "outputs": [],
   "source": [
    "model_names=driver.find_elements_by_xpath(\"//span[@class='a-size-medium a-color-base a-text-normal']\")\n",
    "prices=driver.find_elements_by_xpath(\"//span[@class='a-price-whole']\")"
   ]
  },
  {
   "cell_type": "code",
   "execution_count": 17,
   "metadata": {},
   "outputs": [
    {
     "name": "stdout",
     "output_type": "stream",
     "text": [
      "20\n",
      "20\n"
     ]
    }
   ],
   "source": [
    "model_names=model_names[0:20]\n",
    "print(len(model_names))\n",
    "prices=prices[0:20]\n",
    "print(len(prices))\n"
   ]
  },
  {
   "cell_type": "code",
   "execution_count": null,
   "metadata": {},
   "outputs": [],
   "source": []
  },
  {
   "cell_type": "code",
   "execution_count": 18,
   "metadata": {},
   "outputs": [],
   "source": [
    "product_data={}\n",
    "product_data['model_names']=[]\n",
    "product_data['prices']=[]\n"
   ]
  },
  {
   "cell_type": "code",
   "execution_count": 19,
   "metadata": {},
   "outputs": [],
   "source": [
    "for model_name in model_names:\n",
    "    product_data['model_names'].append(model_name.text)\n",
    "for price in prices:    \n",
    "    product_data['prices'].append(price.text)"
   ]
  },
  {
   "cell_type": "code",
   "execution_count": 20,
   "metadata": {},
   "outputs": [
    {
     "data": {
      "text/plain": [
       "{'model_names': ['Zebronics Zeb-Alex Wired USB Optical Mouse with 3 Buttons',\n",
       "  'Zebronics Zeb-Comfort USB Optical Mouse',\n",
       "  'HP X1000 Wired Mouse (Black/Grey)',\n",
       "  'Logitech M90 Wired USB Mouse, 1000 DPI Optical Tracking, Ambidextrous PC/Mac/Laptop - Black',\n",
       "  'Lenovo 300 Wired USB Mouse, GX30M39704',\n",
       "  'Dell Ms116 275-BBCB Optical Mouse',\n",
       "  'Dell MS116 1000DPI USB Wired Optical Mouse',\n",
       "  'iBall Style 63 Optical Mouse (Black)',\n",
       "  'HP USB X500 Wired Optical Sensor Mouse 3 Buttons Windows 8 Supported',\n",
       "  'Logitech M100r Wired USB Mouse (Black)',\n",
       "  'Quantum QHM222 3-Button 1000DPI Wired Optical Mouse (Black)',\n",
       "  'AmazonBasics 3-Button USB Wired Mouse (Black) - 1.5 M Cable',\n",
       "  'Dell MS116 USB Optical Mouse (Black)',\n",
       "  'Zebronics Zeb-Alex Wired USB Optical Mouse with 3 Buttons',\n",
       "  'BKN® USB 2.0 Wired Optical Mouse 2000 DPI for Laptop,Computer,PC etc.- (Black with Red Light)',\n",
       "  'Zebronics Zeb-Rise Wired USB Optical Mouse with 3 Buttons (Black)',\n",
       "  'Zebronics Zeb-Rise Wired USB Optical Mouse with 3 Buttons (Black)',\n",
       "  'ProDot Universal MU253s USB 1000 DPI Wired Optical Mouse (Black)',\n",
       "  'HP Wired Mouse 100 (6VY96AA)',\n",
       "  'Terabyte 3D Optical Wired USB Mouse in Black'],\n",
       " 'prices': ['225',\n",
       "  '225',\n",
       "  '349',\n",
       "  '299',\n",
       "  '299',\n",
       "  '349',\n",
       "  '405',\n",
       "  '275',\n",
       "  '429',\n",
       "  '368',\n",
       "  '299',\n",
       "  '349',\n",
       "  '399',\n",
       "  '225',\n",
       "  '274',\n",
       "  '135',\n",
       "  '135',\n",
       "  '124',\n",
       "  '374',\n",
       "  '109']}"
      ]
     },
     "execution_count": 20,
     "metadata": {},
     "output_type": "execute_result"
    }
   ],
   "source": [
    "product_data"
   ]
  },
  {
   "cell_type": "code",
   "execution_count": null,
   "metadata": {},
   "outputs": [],
   "source": [
    " "
   ]
  },
  {
   "cell_type": "code",
   "execution_count": null,
   "metadata": {},
   "outputs": [],
   "source": []
  },
  {
   "cell_type": "code",
   "execution_count": 39,
   "metadata": {},
   "outputs": [],
   "source": [
    "df1 = pd.DataFrame(product_data['prices'],columns=['prices'])"
   ]
  },
  {
   "cell_type": "code",
   "execution_count": 41,
   "metadata": {},
   "outputs": [
    {
     "data": {
      "text/html": [
       "<div>\n",
       "<style scoped>\n",
       "    .dataframe tbody tr th:only-of-type {\n",
       "        vertical-align: middle;\n",
       "    }\n",
       "\n",
       "    .dataframe tbody tr th {\n",
       "        vertical-align: top;\n",
       "    }\n",
       "\n",
       "    .dataframe thead th {\n",
       "        text-align: right;\n",
       "    }\n",
       "</style>\n",
       "<table border=\"1\" class=\"dataframe\">\n",
       "  <thead>\n",
       "    <tr style=\"text-align: right;\">\n",
       "      <th></th>\n",
       "      <th>prices</th>\n",
       "    </tr>\n",
       "  </thead>\n",
       "  <tbody>\n",
       "    <tr>\n",
       "      <th>0</th>\n",
       "      <td>225</td>\n",
       "    </tr>\n",
       "    <tr>\n",
       "      <th>1</th>\n",
       "      <td>225</td>\n",
       "    </tr>\n",
       "    <tr>\n",
       "      <th>2</th>\n",
       "      <td>349</td>\n",
       "    </tr>\n",
       "    <tr>\n",
       "      <th>3</th>\n",
       "      <td>299</td>\n",
       "    </tr>\n",
       "    <tr>\n",
       "      <th>4</th>\n",
       "      <td>299</td>\n",
       "    </tr>\n",
       "    <tr>\n",
       "      <th>5</th>\n",
       "      <td>349</td>\n",
       "    </tr>\n",
       "    <tr>\n",
       "      <th>6</th>\n",
       "      <td>405</td>\n",
       "    </tr>\n",
       "    <tr>\n",
       "      <th>7</th>\n",
       "      <td>275</td>\n",
       "    </tr>\n",
       "    <tr>\n",
       "      <th>8</th>\n",
       "      <td>429</td>\n",
       "    </tr>\n",
       "    <tr>\n",
       "      <th>9</th>\n",
       "      <td>368</td>\n",
       "    </tr>\n",
       "    <tr>\n",
       "      <th>10</th>\n",
       "      <td>299</td>\n",
       "    </tr>\n",
       "    <tr>\n",
       "      <th>11</th>\n",
       "      <td>349</td>\n",
       "    </tr>\n",
       "    <tr>\n",
       "      <th>12</th>\n",
       "      <td>399</td>\n",
       "    </tr>\n",
       "    <tr>\n",
       "      <th>13</th>\n",
       "      <td>225</td>\n",
       "    </tr>\n",
       "    <tr>\n",
       "      <th>14</th>\n",
       "      <td>274</td>\n",
       "    </tr>\n",
       "    <tr>\n",
       "      <th>15</th>\n",
       "      <td>135</td>\n",
       "    </tr>\n",
       "    <tr>\n",
       "      <th>16</th>\n",
       "      <td>135</td>\n",
       "    </tr>\n",
       "    <tr>\n",
       "      <th>17</th>\n",
       "      <td>124</td>\n",
       "    </tr>\n",
       "    <tr>\n",
       "      <th>18</th>\n",
       "      <td>374</td>\n",
       "    </tr>\n",
       "    <tr>\n",
       "      <th>19</th>\n",
       "      <td>109</td>\n",
       "    </tr>\n",
       "  </tbody>\n",
       "</table>\n",
       "</div>"
      ],
      "text/plain": [
       "   prices\n",
       "0     225\n",
       "1     225\n",
       "2     349\n",
       "3     299\n",
       "4     299\n",
       "5     349\n",
       "6     405\n",
       "7     275\n",
       "8     429\n",
       "9     368\n",
       "10    299\n",
       "11    349\n",
       "12    399\n",
       "13    225\n",
       "14    274\n",
       "15    135\n",
       "16    135\n",
       "17    124\n",
       "18    374\n",
       "19    109"
      ]
     },
     "execution_count": 41,
     "metadata": {},
     "output_type": "execute_result"
    }
   ],
   "source": [
    "df1"
   ]
  },
  {
   "cell_type": "code",
   "execution_count": 43,
   "metadata": {},
   "outputs": [],
   "source": [
    "df2 = pd.DataFrame(product_data['model_names'],columns=['model_names'])"
   ]
  },
  {
   "cell_type": "code",
   "execution_count": 44,
   "metadata": {},
   "outputs": [
    {
     "data": {
      "text/html": [
       "<div>\n",
       "<style scoped>\n",
       "    .dataframe tbody tr th:only-of-type {\n",
       "        vertical-align: middle;\n",
       "    }\n",
       "\n",
       "    .dataframe tbody tr th {\n",
       "        vertical-align: top;\n",
       "    }\n",
       "\n",
       "    .dataframe thead th {\n",
       "        text-align: right;\n",
       "    }\n",
       "</style>\n",
       "<table border=\"1\" class=\"dataframe\">\n",
       "  <thead>\n",
       "    <tr style=\"text-align: right;\">\n",
       "      <th></th>\n",
       "      <th>model_names</th>\n",
       "    </tr>\n",
       "  </thead>\n",
       "  <tbody>\n",
       "    <tr>\n",
       "      <th>0</th>\n",
       "      <td>Zebronics Zeb-Alex Wired USB Optical Mouse wit...</td>\n",
       "    </tr>\n",
       "    <tr>\n",
       "      <th>1</th>\n",
       "      <td>Zebronics Zeb-Comfort USB Optical Mouse</td>\n",
       "    </tr>\n",
       "    <tr>\n",
       "      <th>2</th>\n",
       "      <td>HP X1000 Wired Mouse (Black/Grey)</td>\n",
       "    </tr>\n",
       "    <tr>\n",
       "      <th>3</th>\n",
       "      <td>Logitech M90 Wired USB Mouse, 1000 DPI Optical...</td>\n",
       "    </tr>\n",
       "    <tr>\n",
       "      <th>4</th>\n",
       "      <td>Lenovo 300 Wired USB Mouse, GX30M39704</td>\n",
       "    </tr>\n",
       "    <tr>\n",
       "      <th>5</th>\n",
       "      <td>Dell Ms116 275-BBCB Optical Mouse</td>\n",
       "    </tr>\n",
       "    <tr>\n",
       "      <th>6</th>\n",
       "      <td>Dell MS116 1000DPI USB Wired Optical Mouse</td>\n",
       "    </tr>\n",
       "    <tr>\n",
       "      <th>7</th>\n",
       "      <td>iBall Style 63 Optical Mouse (Black)</td>\n",
       "    </tr>\n",
       "    <tr>\n",
       "      <th>8</th>\n",
       "      <td>HP USB X500 Wired Optical Sensor Mouse 3 Butto...</td>\n",
       "    </tr>\n",
       "    <tr>\n",
       "      <th>9</th>\n",
       "      <td>Logitech M100r Wired USB Mouse (Black)</td>\n",
       "    </tr>\n",
       "    <tr>\n",
       "      <th>10</th>\n",
       "      <td>Quantum QHM222 3-Button 1000DPI Wired Optical ...</td>\n",
       "    </tr>\n",
       "    <tr>\n",
       "      <th>11</th>\n",
       "      <td>AmazonBasics 3-Button USB Wired Mouse (Black) ...</td>\n",
       "    </tr>\n",
       "    <tr>\n",
       "      <th>12</th>\n",
       "      <td>Dell MS116 USB Optical Mouse (Black)</td>\n",
       "    </tr>\n",
       "    <tr>\n",
       "      <th>13</th>\n",
       "      <td>Zebronics Zeb-Alex Wired USB Optical Mouse wit...</td>\n",
       "    </tr>\n",
       "    <tr>\n",
       "      <th>14</th>\n",
       "      <td>BKN® USB 2.0 Wired Optical Mouse 2000 DPI for ...</td>\n",
       "    </tr>\n",
       "    <tr>\n",
       "      <th>15</th>\n",
       "      <td>Zebronics Zeb-Rise Wired USB Optical Mouse wit...</td>\n",
       "    </tr>\n",
       "    <tr>\n",
       "      <th>16</th>\n",
       "      <td>Zebronics Zeb-Rise Wired USB Optical Mouse wit...</td>\n",
       "    </tr>\n",
       "    <tr>\n",
       "      <th>17</th>\n",
       "      <td>ProDot Universal MU253s USB 1000 DPI Wired Opt...</td>\n",
       "    </tr>\n",
       "    <tr>\n",
       "      <th>18</th>\n",
       "      <td>HP Wired Mouse 100 (6VY96AA)</td>\n",
       "    </tr>\n",
       "    <tr>\n",
       "      <th>19</th>\n",
       "      <td>Terabyte 3D Optical Wired USB Mouse in Black</td>\n",
       "    </tr>\n",
       "  </tbody>\n",
       "</table>\n",
       "</div>"
      ],
      "text/plain": [
       "                                          model_names\n",
       "0   Zebronics Zeb-Alex Wired USB Optical Mouse wit...\n",
       "1             Zebronics Zeb-Comfort USB Optical Mouse\n",
       "2                   HP X1000 Wired Mouse (Black/Grey)\n",
       "3   Logitech M90 Wired USB Mouse, 1000 DPI Optical...\n",
       "4              Lenovo 300 Wired USB Mouse, GX30M39704\n",
       "5                   Dell Ms116 275-BBCB Optical Mouse\n",
       "6          Dell MS116 1000DPI USB Wired Optical Mouse\n",
       "7                iBall Style 63 Optical Mouse (Black)\n",
       "8   HP USB X500 Wired Optical Sensor Mouse 3 Butto...\n",
       "9              Logitech M100r Wired USB Mouse (Black)\n",
       "10  Quantum QHM222 3-Button 1000DPI Wired Optical ...\n",
       "11  AmazonBasics 3-Button USB Wired Mouse (Black) ...\n",
       "12               Dell MS116 USB Optical Mouse (Black)\n",
       "13  Zebronics Zeb-Alex Wired USB Optical Mouse wit...\n",
       "14  BKN® USB 2.0 Wired Optical Mouse 2000 DPI for ...\n",
       "15  Zebronics Zeb-Rise Wired USB Optical Mouse wit...\n",
       "16  Zebronics Zeb-Rise Wired USB Optical Mouse wit...\n",
       "17  ProDot Universal MU253s USB 1000 DPI Wired Opt...\n",
       "18                       HP Wired Mouse 100 (6VY96AA)\n",
       "19       Terabyte 3D Optical Wired USB Mouse in Black"
      ]
     },
     "execution_count": 44,
     "metadata": {},
     "output_type": "execute_result"
    }
   ],
   "source": [
    "df2"
   ]
  },
  {
   "cell_type": "code",
   "execution_count": 66,
   "metadata": {},
   "outputs": [
    {
     "data": {
      "text/html": [
       "<div>\n",
       "<style scoped>\n",
       "    .dataframe tbody tr th:only-of-type {\n",
       "        vertical-align: middle;\n",
       "    }\n",
       "\n",
       "    .dataframe tbody tr th {\n",
       "        vertical-align: top;\n",
       "    }\n",
       "\n",
       "    .dataframe thead th {\n",
       "        text-align: right;\n",
       "    }\n",
       "</style>\n",
       "<table border=\"1\" class=\"dataframe\">\n",
       "  <thead>\n",
       "    <tr style=\"text-align: right;\">\n",
       "      <th></th>\n",
       "      <th>prices</th>\n",
       "      <th>model_names</th>\n",
       "    </tr>\n",
       "  </thead>\n",
       "  <tbody>\n",
       "    <tr>\n",
       "      <th>0</th>\n",
       "      <td>225</td>\n",
       "      <td>Zebronics Zeb-Alex Wired USB Optical Mouse wit...</td>\n",
       "    </tr>\n",
       "    <tr>\n",
       "      <th>1</th>\n",
       "      <td>225</td>\n",
       "      <td>Zebronics Zeb-Comfort USB Optical Mouse</td>\n",
       "    </tr>\n",
       "    <tr>\n",
       "      <th>2</th>\n",
       "      <td>349</td>\n",
       "      <td>HP X1000 Wired Mouse (Black/Grey)</td>\n",
       "    </tr>\n",
       "    <tr>\n",
       "      <th>3</th>\n",
       "      <td>299</td>\n",
       "      <td>Logitech M90 Wired USB Mouse, 1000 DPI Optical...</td>\n",
       "    </tr>\n",
       "    <tr>\n",
       "      <th>4</th>\n",
       "      <td>299</td>\n",
       "      <td>Lenovo 300 Wired USB Mouse, GX30M39704</td>\n",
       "    </tr>\n",
       "    <tr>\n",
       "      <th>5</th>\n",
       "      <td>349</td>\n",
       "      <td>Dell Ms116 275-BBCB Optical Mouse</td>\n",
       "    </tr>\n",
       "    <tr>\n",
       "      <th>6</th>\n",
       "      <td>405</td>\n",
       "      <td>Dell MS116 1000DPI USB Wired Optical Mouse</td>\n",
       "    </tr>\n",
       "    <tr>\n",
       "      <th>7</th>\n",
       "      <td>275</td>\n",
       "      <td>iBall Style 63 Optical Mouse (Black)</td>\n",
       "    </tr>\n",
       "    <tr>\n",
       "      <th>8</th>\n",
       "      <td>429</td>\n",
       "      <td>HP USB X500 Wired Optical Sensor Mouse 3 Butto...</td>\n",
       "    </tr>\n",
       "    <tr>\n",
       "      <th>9</th>\n",
       "      <td>368</td>\n",
       "      <td>Logitech M100r Wired USB Mouse (Black)</td>\n",
       "    </tr>\n",
       "    <tr>\n",
       "      <th>10</th>\n",
       "      <td>299</td>\n",
       "      <td>Quantum QHM222 3-Button 1000DPI Wired Optical ...</td>\n",
       "    </tr>\n",
       "    <tr>\n",
       "      <th>11</th>\n",
       "      <td>349</td>\n",
       "      <td>AmazonBasics 3-Button USB Wired Mouse (Black) ...</td>\n",
       "    </tr>\n",
       "    <tr>\n",
       "      <th>12</th>\n",
       "      <td>399</td>\n",
       "      <td>Dell MS116 USB Optical Mouse (Black)</td>\n",
       "    </tr>\n",
       "    <tr>\n",
       "      <th>13</th>\n",
       "      <td>225</td>\n",
       "      <td>Zebronics Zeb-Alex Wired USB Optical Mouse wit...</td>\n",
       "    </tr>\n",
       "    <tr>\n",
       "      <th>14</th>\n",
       "      <td>274</td>\n",
       "      <td>BKN® USB 2.0 Wired Optical Mouse 2000 DPI for ...</td>\n",
       "    </tr>\n",
       "    <tr>\n",
       "      <th>15</th>\n",
       "      <td>135</td>\n",
       "      <td>Zebronics Zeb-Rise Wired USB Optical Mouse wit...</td>\n",
       "    </tr>\n",
       "    <tr>\n",
       "      <th>16</th>\n",
       "      <td>135</td>\n",
       "      <td>Zebronics Zeb-Rise Wired USB Optical Mouse wit...</td>\n",
       "    </tr>\n",
       "    <tr>\n",
       "      <th>17</th>\n",
       "      <td>124</td>\n",
       "      <td>ProDot Universal MU253s USB 1000 DPI Wired Opt...</td>\n",
       "    </tr>\n",
       "    <tr>\n",
       "      <th>18</th>\n",
       "      <td>374</td>\n",
       "      <td>HP Wired Mouse 100 (6VY96AA)</td>\n",
       "    </tr>\n",
       "    <tr>\n",
       "      <th>19</th>\n",
       "      <td>109</td>\n",
       "      <td>Terabyte 3D Optical Wired USB Mouse in Black</td>\n",
       "    </tr>\n",
       "  </tbody>\n",
       "</table>\n",
       "</div>"
      ],
      "text/plain": [
       "   prices                                        model_names\n",
       "0     225  Zebronics Zeb-Alex Wired USB Optical Mouse wit...\n",
       "1     225            Zebronics Zeb-Comfort USB Optical Mouse\n",
       "2     349                  HP X1000 Wired Mouse (Black/Grey)\n",
       "3     299  Logitech M90 Wired USB Mouse, 1000 DPI Optical...\n",
       "4     299             Lenovo 300 Wired USB Mouse, GX30M39704\n",
       "5     349                  Dell Ms116 275-BBCB Optical Mouse\n",
       "6     405         Dell MS116 1000DPI USB Wired Optical Mouse\n",
       "7     275               iBall Style 63 Optical Mouse (Black)\n",
       "8     429  HP USB X500 Wired Optical Sensor Mouse 3 Butto...\n",
       "9     368             Logitech M100r Wired USB Mouse (Black)\n",
       "10    299  Quantum QHM222 3-Button 1000DPI Wired Optical ...\n",
       "11    349  AmazonBasics 3-Button USB Wired Mouse (Black) ...\n",
       "12    399               Dell MS116 USB Optical Mouse (Black)\n",
       "13    225  Zebronics Zeb-Alex Wired USB Optical Mouse wit...\n",
       "14    274  BKN® USB 2.0 Wired Optical Mouse 2000 DPI for ...\n",
       "15    135  Zebronics Zeb-Rise Wired USB Optical Mouse wit...\n",
       "16    135  Zebronics Zeb-Rise Wired USB Optical Mouse wit...\n",
       "17    124  ProDot Universal MU253s USB 1000 DPI Wired Opt...\n",
       "18    374                       HP Wired Mouse 100 (6VY96AA)\n",
       "19    109       Terabyte 3D Optical Wired USB Mouse in Black"
      ]
     },
     "execution_count": 66,
     "metadata": {},
     "output_type": "execute_result"
    }
   ],
   "source": [
    "#FINAL DATAFRAME\n",
    "pd.concat([df1, df2], axis=1)"
   ]
  },
  {
   "cell_type": "code",
   "execution_count": null,
   "metadata": {},
   "outputs": [],
   "source": []
  }
 ],
 "metadata": {
  "kernelspec": {
   "display_name": "Python 3",
   "language": "python",
   "name": "python3"
  },
  "language_info": {
   "codemirror_mode": {
    "name": "ipython",
    "version": 3
   },
   "file_extension": ".py",
   "mimetype": "text/x-python",
   "name": "python",
   "nbconvert_exporter": "python",
   "pygments_lexer": "ipython3",
   "version": "3.7.7"
  }
 },
 "nbformat": 4,
 "nbformat_minor": 4
}
